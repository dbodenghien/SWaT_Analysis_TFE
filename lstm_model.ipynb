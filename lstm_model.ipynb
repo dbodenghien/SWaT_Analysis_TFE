{
 "cells": [
  {
   "cell_type": "code",
   "execution_count": 8,
   "metadata": {},
   "outputs": [],
   "source": [
    "\n",
    "import pandas as pd\n",
    "from sklearn.preprocessing import StandardScaler\n",
    "df = pd.read_pickle('dataset/clean_dataset.pkl')\n"
   ]
  },
  {
   "cell_type": "code",
   "execution_count": 9,
   "metadata": {},
   "outputs": [],
   "source": [
    "# cols = ['FIT101', 'LIT101', 'MV101', 'P101', 'P102', 'AIT201',\n",
    "#        'AIT202', 'AIT203', 'FIT201', 'MV201', 'P201', 'P202', 'P203', 'P204',\n",
    "#        'P205', 'P206', 'DPIT301', 'FIT301', 'LIT301', 'MV301', 'MV302',\n",
    "#        'MV303', 'MV304', 'P301', 'P302', 'AIT401', 'AIT402', 'FIT401',\n",
    "#        'LIT401', 'P401', 'P402', 'P403', 'P404', 'UV401', 'AIT501', 'AIT502',\n",
    "#        'AIT503', 'AIT504', 'FIT501', 'FIT502', 'FIT503', 'FIT504', 'P501',\n",
    "#        'P502', 'PIT501', 'PIT502', 'PIT503', 'FIT601', 'P601', 'P602', 'P603']\n",
    "\n",
    "# cols = [i for i in cols if i not in to_remove]\n",
    "# feature = ['PIT503']\n",
    "\n",
    "def get_train_test_dataset():\n",
    "    split_date = '2015-12-28 10:29:13'\n",
    "    data_train = df.loc[df['Timestamp'] <= split_date].copy()\n",
    "    data_test = df.loc[df['Timestamp'] > split_date].copy()\n",
    "\n",
    "    return data_train, data_test"
   ]
  },
  {
   "cell_type": "code",
   "execution_count": 10,
   "metadata": {},
   "outputs": [
    {
     "name": "stderr",
     "output_type": "stream",
     "text": [
      "/tmp/ipykernel_26029/3892842226.py:11: SettingWithCopyWarning: \n",
      "A value is trying to be set on a copy of a slice from a DataFrame.\n",
      "Try using .loc[row_indexer,col_indexer] = value instead\n",
      "\n",
      "See the caveats in the documentation: https://pandas.pydata.org/pandas-docs/stable/user_guide/indexing.html#returning-a-view-versus-a-copy\n",
      "  data['Timestamp'] = pd.to_numeric(data['Timestamp'])\n",
      "/tmp/ipykernel_26029/3892842226.py:12: SettingWithCopyWarning: \n",
      "A value is trying to be set on a copy of a slice from a DataFrame\n",
      "\n",
      "See the caveats in the documentation: https://pandas.pydata.org/pandas-docs/stable/user_guide/indexing.html#returning-a-view-versus-a-copy\n",
      "  data['Normal/Attack'].replace(['Normal', 'Attack'],\n",
      "/tmp/ipykernel_26029/3892842226.py:26: SettingWithCopyWarning: \n",
      "A value is trying to be set on a copy of a slice from a DataFrame.\n",
      "Try using .loc[row_indexer,col_indexer] = value instead\n",
      "\n",
      "See the caveats in the documentation: https://pandas.pydata.org/pandas-docs/stable/user_guide/indexing.html#returning-a-view-versus-a-copy\n",
      "  train_set[0:len(train_set)-1] = sc.transform(train_set[0:len(train_set)-1])\n"
     ]
    }
   ],
   "source": [
    "training, test = get_train_test_dataset()\n",
    "\n",
    "cols_numeric = list(df.columns)\n",
    "\n",
    "cols_numeric.remove('index')\n",
    "cols_numeric.remove('attack')\n",
    "\n",
    "# cols_numeric.remove('Normal/Attack')\n",
    "data = training[cols_numeric]\n",
    "test = test[cols_numeric]\n",
    "\n",
    "#Transform to numeric data to be able to do the SC\n",
    "data['Timestamp'] = pd.to_numeric(data['Timestamp'])\n",
    "data['Normal/Attack'].replace(['Normal', 'Attack'],\n",
    "                        [0, 1], inplace=True)\n",
    "\n",
    "test['Timestamp'] = pd.to_numeric(test['Timestamp'])\n",
    "test['Normal/Attack'].replace(['Normal', 'Attack'],\n",
    "                        [0, 1], inplace=True)\n",
    "\n",
    "train_set = data\n",
    "test_set = test\n",
    "\n",
    "# We only fit on the trainset to avoid data leakage from the testset\n",
    "sc = StandardScaler().fit(data)\n",
    "\n",
    "train_set[0:len(train_set)-1] = sc.transform(train_set[0:len(train_set)-1])\n",
    "test_set[0:len(test_set)-1] = sc.transform(test_set[0:len(test_set)-1])\n"
   ]
  },
  {
   "cell_type": "code",
   "execution_count": 11,
   "metadata": {},
   "outputs": [],
   "source": [
    "import numpy as np\n",
    "\n",
    "def create_dataset(X, y, time_steps=1):\n",
    "    Xs, ys = [], []\n",
    "    for i in range(len(X) - time_steps):\n",
    "        v = X.iloc[i:(i + time_steps)].values\n",
    "        Xs.append(v)\n",
    "        ys.append(y.iloc[i + time_steps])\n",
    "\n",
    "    return np.array(Xs), np.array(ys)"
   ]
  },
  {
   "cell_type": "code",
   "execution_count": 13,
   "metadata": {},
   "outputs": [],
   "source": [
    "\n",
    "cols = ['FIT101', 'LIT101', 'MV101', 'P101', 'P102', 'AIT201',\n",
    "       'AIT202', 'AIT203', 'FIT201', 'MV201', 'P201', 'P202', 'P203', 'P204',\n",
    "       'P205', 'P206', 'DPIT301', 'FIT301', 'LIT301', 'MV301', 'MV302',\n",
    "       'MV303', 'MV304', 'P301', 'P302', 'AIT401', 'AIT402', 'FIT401',\n",
    "       'LIT401', 'P401', 'P402', 'P403', 'P404', 'UV401', 'AIT501', 'AIT502',\n",
    "       'AIT503', 'AIT504', 'FIT501', 'FIT502', 'FIT503', 'FIT504', 'P501',\n",
    "       'P502', 'PIT501', 'PIT502', 'PIT503', 'FIT601', 'P601', 'P602', 'P603']\n",
    "\n",
    "to_remove = ['P202','P401','P404','P502','P601','P603']\n",
    "cols = [i for i in cols if i not in to_remove]\n",
    "feature = ['PIT503']\n",
    "cols.remove(feature)\n",
    "\n",
    "# size of sequence\n",
    "TIME_STEPS = 300\n",
    "\n",
    "# reshape to [samples, time_steps, n_features]\n",
    "X_train, y_train = create_dataset(training[cols], training[feature], TIME_STEPS)\n",
    "X_test, y_test = create_dataset(test[cols], test[feature], TIME_STEPS)\n"
   ]
  }
 ],
 "metadata": {
  "kernelspec": {
   "display_name": "Python 3.10.4 64-bit",
   "language": "python",
   "name": "python3"
  },
  "language_info": {
   "codemirror_mode": {
    "name": "ipython",
    "version": 3
   },
   "file_extension": ".py",
   "mimetype": "text/x-python",
   "name": "python",
   "nbconvert_exporter": "python",
   "pygments_lexer": "ipython3",
   "version": "3.10.4"
  },
  "orig_nbformat": 4,
  "vscode": {
   "interpreter": {
    "hash": "31f2aee4e71d21fbe5cf8b01ff0e069b9275f58929596ceb00d14d90e3e16cd6"
   }
  }
 },
 "nbformat": 4,
 "nbformat_minor": 2
}
