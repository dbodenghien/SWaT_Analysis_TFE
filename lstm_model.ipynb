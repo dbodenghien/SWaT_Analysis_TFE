{
 "cells": [
  {
   "cell_type": "code",
   "execution_count": 5,
   "metadata": {},
   "outputs": [],
   "source": [
    "from sklearn.preprocessing import StandardScaler\n",
    "import pandas as pd\n",
    "import numpy as np\n",
    "import keras \n",
    "\n",
    "df = pd.read_pickle('dataset/train_dataset.pkl')\n",
    "\n",
    "\n",
    "pd.set_option(\"display.max_columns\", None)\n",
    "pd.set_option('display.max_colwidth', None) #50 for truncated view, -1 for full view"
   ]
  },
  {
   "cell_type": "code",
   "execution_count": 6,
   "metadata": {},
   "outputs": [],
   "source": [
    "\n",
    "def get_train_test_dataset():\n",
    "    split_date = '2015-12-28 10:29:13'\n",
    "    data_train = df.loc[df['Timestamp'] <= split_date].copy()\n",
    "    data_test = df.loc[df['Timestamp'] > split_date].copy()\n",
    "\n",
    "    return data_train, data_test"
   ]
  },
  {
   "cell_type": "code",
   "execution_count": 126,
   "metadata": {},
   "outputs": [],
   "source": [
    "training, test = get_train_test_dataset()\n",
    "test = test.reset_index(drop=True)\n",
    "\n",
    "cols_numeric = list(df.columns)\n",
    "\n",
    "cols_numeric.remove('index')\n",
    "cols_numeric.remove('attack')\n",
    "\n",
    "\n",
    "#Transform to numeric data to be able to do the SC\n",
    "# training['Timestamp'] = pd.to_numeric(training['Timestamp'])\n",
    "training['Normal/Attack'].replace(['Normal', 'Attack'],\n",
    "                        [0, 1], inplace=True)\n",
    "\n",
    "# test['Timestamp'] = pd.to_numeric(test['Timestamp'])\n",
    "test['Normal/Attack'].replace(['Normal', 'Attack'],\n",
    "                        [0, 1], inplace=True)\n",
    "\n",
    "# We only fit on the trainset to avoid data leakage from the testset\n",
    "\n",
    "data_num = training[cols_numeric]\n",
    "train_set = (data_num-data_num.min())/(data_num.max()-data_num.min())\n",
    "\n",
    "\n",
    "test_num = test[cols_numeric]\n",
    "test_set = (test_num-test_num.min())/(test_num.max()-test_num.min())\n",
    "\n",
    "# scaler = StandardScaler().fit(data)\n",
    "# train_set = scaler.transform(data)\n",
    "\n",
    "\n",
    "# scaler = StandardScaler().fit(test)\n",
    "# test_set = scaler.transform(test)"
   ]
  },
  {
   "cell_type": "code",
   "execution_count": 153,
   "metadata": {},
   "outputs": [
    {
     "name": "stdout",
     "output_type": "stream",
     "text": [
      "P301\n"
     ]
    }
   ],
   "source": [
    "cols_numeric = list(df.columns)\n",
    "cols_numeric.remove('Timestamp')\n",
    "cols_numeric.remove('Normal/Attack')\n",
    "cols_numeric.remove('index')\n",
    "cols_numeric.remove('attack')\n",
    "\n",
    "\n",
    "for col in cols_numeric:\n",
    "    \n",
    "    var = np.var(test_set[col])\n",
    "    if var == 0 or np.isnan(var):\n",
    "        print(col)\n",
    "        test_set[col] = test_set[col].fillna(0)\n",
    "        \n",
    "    # var = np.var(train_set[col])\n",
    "    # if var == 0 or np.isnan(var):\n",
    "    #     print(col)\n",
    "    #     train_set[col] = train_set[col].fillna(0)"
   ]
  },
  {
   "cell_type": "markdown",
   "metadata": {},
   "source": [
    "backup not use (anomaly)"
   ]
  },
  {
   "cell_type": "code",
   "execution_count": 156,
   "metadata": {},
   "outputs": [
    {
     "data": {
      "text/plain": [
       "<AxesSubplot:>"
      ]
     },
     "execution_count": 156,
     "metadata": {},
     "output_type": "execute_result"
    },
    {
     "data": {
      "image/png": "[encoded data removed]",
      "text/plain": [
       "<Figure size 640x480 with 1 Axes>"
      ]
     },
     "metadata": {},
     "output_type": "display_data"
    }
   ],
   "source": [
    "df['P301'].plot()"
   ]
  },
  {
   "cell_type": "code",
   "execution_count": 8,
   "metadata": {},
   "outputs": [],
   "source": [
    "import numpy as np\n",
    "\n",
    "def create_dataset(X, y, time_steps=1):\n",
    "    Xs, ys = [], []\n",
    "    for i in range(len(X) - time_steps):\n",
    "        v = X.iloc[i:(i + time_steps)].values\n",
    "        Xs.append(v)\n",
    "        ys.append(y.iloc[i + time_steps])\n",
    "\n",
    "    return np.array(Xs), np.array(ys)"
   ]
  },
  {
   "cell_type": "code",
   "execution_count": 113,
   "metadata": {},
   "outputs": [],
   "source": [
    "\n",
    "cols = ['FIT101', 'LIT101', 'MV101', 'P101', 'P102', 'AIT201',\n",
    "       'AIT202', 'AIT203', 'FIT201', 'MV201', 'P201', 'P202', 'P203', 'P204',\n",
    "       'P205', 'P206', 'DPIT301', 'FIT301', 'LIT301', 'MV301', 'MV302',\n",
    "       'MV303', 'MV304', 'P301', 'P302', 'AIT401', 'AIT402', 'FIT401',\n",
    "       'LIT401', 'P401', 'P402', 'P403', 'P404', 'UV401', 'AIT501', 'AIT502',\n",
    "       'AIT503', 'AIT504', 'FIT501', 'FIT502', 'FIT503', 'FIT504', 'P501',\n",
    "       'P502', 'PIT501', 'PIT502', 'PIT503', 'FIT601', 'P601', 'P602', 'P603']\n",
    "\n",
    "to_remove = ['P202','P401','P404','P502','P601','P603']\n",
    "cols = [i for i in cols if i not in to_remove]\n",
    "feature = ['PIT503']\n",
    "cols.remove(feature[0])\n",
    "\n",
    "# size of sequence\n",
    "TIME_STEPS = 30\n",
    "\n",
    "# reshape to [samples, time_steps, n_features]\n",
    "train = train_set.loc[0:20000-1, cols+feature]\n",
    "test = test_set.loc[0:20000-1, cols+feature]\n",
    "\n",
    "X_train, y_train = create_dataset(train[cols], train[feature], TIME_STEPS)\n",
    "X_test, y_test = create_dataset(test[cols], test[feature], TIME_STEPS)\n"
   ]
  },
  {
   "cell_type": "code",
   "execution_count": 130,
   "metadata": {},
   "outputs": [],
   "source": [
    "date_test = test.loc[0:20000-1-TIME_STEPS, 'Timestamp']\n"
   ]
  },
  {
   "cell_type": "code",
   "execution_count": 10,
   "metadata": {},
   "outputs": [
    {
     "name": "stdout",
     "output_type": "stream",
     "text": [
      "(19970, 30, 44) (19970, 1)\n"
     ]
    }
   ],
   "source": [
    "print(X_test.shape, y_test.shape)"
   ]
  },
  {
   "cell_type": "code",
   "execution_count": 11,
   "metadata": {},
   "outputs": [
    {
     "name": "stdout",
     "output_type": "stream",
     "text": [
      "(19970, 30, 44) (19970, 1)\n"
     ]
    }
   ],
   "source": [
    "print(X_train.shape, y_train.shape)"
   ]
  },
  {
   "cell_type": "code",
   "execution_count": 13,
   "metadata": {},
   "outputs": [
    {
     "name": "stderr",
     "output_type": "stream",
     "text": [
      "2022-09-20 17:51:27.230503: I tensorflow/core/platform/cpu_feature_guard.cc:193] This TensorFlow binary is optimized with oneAPI Deep Neural Network Library (oneDNN) to use the following CPU instructions in performance-critical operations:  AVX2 FMA\n",
      "To enable them in other operations, rebuild TensorFlow with the appropriate compiler flags.\n"
     ]
    }
   ],
   "source": [
    "model = keras.Sequential()\n",
    "model.add(keras.layers.LSTM(\n",
    "    units=64, \n",
    "    input_shape=(X_train.shape[1], X_train.shape[2])\n",
    "))\n",
    "model.add(keras.layers.Dropout(rate=0.2))\n",
    "model.add(keras.layers.RepeatVector(n=X_train.shape[1]))\n",
    "model.add(keras.layers.LSTM(units=64, return_sequences=True))\n",
    "model.add(keras.layers.Dropout(rate=0.2))\n",
    "model.add(keras.layers.TimeDistributed(keras.layers.Dense(units=y_train.shape[1])))\n",
    "model.compile(loss='mae', optimizer='adam')"
   ]
  },
  {
   "cell_type": "code",
   "execution_count": 83,
   "metadata": {},
   "outputs": [],
   "source": [
    "# model = keras.Sequential()\n",
    "# model.add(keras.layers.LSTM(64, activation='softmax', input_shape=(X_train.shape[1], X_train.shape[2]), return_sequences=True))\n",
    "# model.add(keras.layers.LSTM(32, activation='relu', return_sequences=False))\n",
    "# # model.add(Dropout(0.5))\n",
    "# model.add(keras.layers.Dense(y_train.shape[1]))\n",
    "\n",
    "# model.compile(optimizer='adam', loss=\"mean_squared_error\", run_eagerly=True)#, loss='mse')"
   ]
  },
  {
   "cell_type": "code",
   "execution_count": 14,
   "metadata": {},
   "outputs": [
    {
     "name": "stdout",
     "output_type": "stream",
     "text": [
      "Model: \"sequential\"\n",
      "_________________________________________________________________\n",
      " Layer (type)                Output Shape              Param #   \n",
      "=================================================================\n",
      " lstm (LSTM)                 (None, 64)                27904     \n",
      "                                                                 \n",
      " dropout (Dropout)           (None, 64)                0         \n",
      "                                                                 \n",
      " repeat_vector (RepeatVector  (None, 30, 64)           0         \n",
      " )                                                               \n",
      "                                                                 \n",
      " lstm_1 (LSTM)               (None, 30, 64)            33024     \n",
      "                                                                 \n",
      " dropout_1 (Dropout)         (None, 30, 64)            0         \n",
      "                                                                 \n",
      " time_distributed (TimeDistr  (None, 30, 1)            65        \n",
      " ibuted)                                                         \n",
      "                                                                 \n",
      "=================================================================\n",
      "Total params: 60,993\n",
      "Trainable params: 60,993\n",
      "Non-trainable params: 0\n",
      "_________________________________________________________________\n"
     ]
    }
   ],
   "source": [
    "model.summary()"
   ]
  },
  {
   "cell_type": "code",
   "execution_count": 15,
   "metadata": {},
   "outputs": [
    {
     "name": "stdout",
     "output_type": "stream",
     "text": [
      "Epoch 1/2\n",
      "625/625 [==============================] - 16s 20ms/step - loss: 0.0455\n",
      "Epoch 2/2\n",
      "625/625 [==============================] - 14s 23ms/step - loss: 0.0247\n"
     ]
    }
   ],
   "source": [
    "# history = model.fit(\n",
    "#     X_train, y_train,\n",
    "#     epochs=10,\n",
    "#     batch_size=32,\n",
    "#     validation_split=0.1,\n",
    "#     shuffle=False\n",
    "# )\n",
    "\n",
    "history = model.fit(\n",
    "    X_train, y_train,\n",
    "    epochs=2)"
   ]
  },
  {
   "cell_type": "code",
   "execution_count": 16,
   "metadata": {},
   "outputs": [
    {
     "name": "stdout",
     "output_type": "stream",
     "text": [
      "625/625 [==============================] - 5s 7ms/step\n"
     ]
    }
   ],
   "source": [
    "X_test_pred = model.predict(X_test)\n"
   ]
  },
  {
   "cell_type": "code",
   "execution_count": 32,
   "metadata": {},
   "outputs": [
    {
     "data": {
      "text/plain": [
       "(19970, 30, 1)"
      ]
     },
     "execution_count": 32,
     "metadata": {},
     "output_type": "execute_result"
    }
   ],
   "source": [
    "X_test_pred.shape"
   ]
  },
  {
   "cell_type": "code",
   "execution_count": 61,
   "metadata": {},
   "outputs": [
    {
     "data": {
      "text/plain": [
       "(19970, 1)"
      ]
     },
     "execution_count": 61,
     "metadata": {},
     "output_type": "execute_result"
    }
   ],
   "source": [
    "y_test.shape"
   ]
  },
  {
   "cell_type": "code",
   "execution_count": 43,
   "metadata": {},
   "outputs": [],
   "source": [
    "test_mae_loss = np.mean(np.abs(X_test_pred - X_test), axis=1)"
   ]
  },
  {
   "cell_type": "code",
   "execution_count": 150,
   "metadata": {},
   "outputs": [
    {
     "data": {
      "text/plain": [
       "array([[0.6582625 ],\n",
       "       [0.6772003 ],\n",
       "       [0.679907  ],\n",
       "       [0.6794462 ],\n",
       "       [0.6787398 ],\n",
       "       [0.67821646],\n",
       "       [0.67786133],\n",
       "       [0.67761505],\n",
       "       [0.6774354 ],\n",
       "       [0.6772983 ],\n",
       "       [0.67719054],\n",
       "       [0.67710435],\n",
       "       [0.6770351 ],\n",
       "       [0.6769793 ],\n",
       "       [0.67693424],\n",
       "       [0.676898  ],\n",
       "       [0.67686903],\n",
       "       [0.6768458 ],\n",
       "       [0.67682713],\n",
       "       [0.6768123 ],\n",
       "       [0.6768005 ],\n",
       "       [0.6767911 ],\n",
       "       [0.67678356],\n",
       "       [0.6767776 ],\n",
       "       [0.67677295],\n",
       "       [0.67676914],\n",
       "       [0.6767663 ],\n",
       "       [0.6767639 ],\n",
       "       [0.676762  ],\n",
       "       [0.67676044]], dtype=float32)"
      ]
     },
     "execution_count": 150,
     "metadata": {},
     "output_type": "execute_result"
    }
   ],
   "source": [
    "X_test_pred[0]"
   ]
  },
  {
   "cell_type": "code",
   "execution_count": 152,
   "metadata": {},
   "outputs": [
    {
     "data": {
      "text/plain": [
       "(0.0, 1.2)"
      ]
     },
     "execution_count": 152,
     "metadata": {},
     "output_type": "execute_result"
    },
    {
     "data": {
      "image/png": "[encoded data removed]",
      "text/plain": [
       "<Figure size 1500x500 with 1 Axes>"
      ]
     },
     "metadata": {},
     "output_type": "display_data"
    }
   ],
   "source": [
    "how_much_in_futur = 29\n",
    "\n",
    "arr = [float(X_test_pred[i][how_much_in_futur]) for i in range(len(X_test_pred))]\n",
    "predictions = pd.DataFrame({'Predictions': arr})\n",
    "true_label = pd.DataFrame({'True_label': y_test.flatten()})\n",
    "\n",
    "result = pd.concat([true_label, predictions, date_test], axis=1)\n",
    "\n",
    "data_melt = pd.melt(result.reset_index(), id_vars=['Timestamp'], value_vars=['True_label', 'Predictions'])\n",
    "g = sns.scatterplot(x='Timestamp', y='value', hue='variable', data=data_melt, palette='Set1', alpha=0.5, s=10, linewidth=0, legend='full')\n",
    "g.set(xlabel='Date', ylabel='PIT503')\n",
    "g.legend(loc='upper right', bbox_to_anchor=(1.2, 1), ncol=1)\n",
    "g.figure.set_size_inches(15, 5)\n",
    "g.set_ylim([0, 1.2])"
   ]
  },
  {
   "cell_type": "code",
   "execution_count": 90,
   "metadata": {},
   "outputs": [
    {
     "data": {
      "text/plain": [
       "(448135, 0)"
      ]
     },
     "execution_count": 90,
     "metadata": {},
     "output_type": "execute_result"
    }
   ],
   "source": [
    "\n",
    "test_score_df = pd.DataFrame(index=test[TIME_STEPS:].index)\n",
    "test_score_df.shape"
   ]
  },
  {
   "cell_type": "code",
   "execution_count": 98,
   "metadata": {},
   "outputs": [],
   "source": [
    "THRESHOLD = 0.65\n",
    "\n",
    "test_score_df = pd.DataFrame(index=test_set[TIME_STEPS:20000].index)\n",
    "test_score_df['loss'] = test_mae_loss\n",
    "# test_score_df['threshold'] = THRESHOLD\n",
    "# test_score_df['anomaly'] = test_score_df['loss'] > test_score_df['threshold']\n",
    "# test_score_df[feature] = test[TIME_STEPS:][feature]"
   ]
  },
  {
   "cell_type": "code",
   "execution_count": null,
   "metadata": {},
   "outputs": [],
   "source": [
    "plt.plot(test_score_df.index, test_score_df.loss, label='loss')\n",
    "plt.plot(test_score_df.index, test_score_df.threshold, label='threshold')\n",
    "plt.xticks(rotation=25)\n",
    "plt.legend();"
   ]
  }
 ],
 "metadata": {
  "kernelspec": {
   "display_name": "Python 3.9.5 ('.env': venv)",
   "language": "python",
   "name": "python3"
  },
  "language_info": {
   "codemirror_mode": {
    "name": "ipython",
    "version": 3
   },
   "file_extension": ".py",
   "mimetype": "text/x-python",
   "name": "python",
   "nbconvert_exporter": "python",
   "pygments_lexer": "ipython3",
   "version": "3.9.5"
  },
  "orig_nbformat": 4,
  "vscode": {
   "interpreter": {
    "hash": "a94584ff91bad0de35aba50abc669104c831c250069fc6c7e549cc657108045a"
   }
  }
 },
 "nbformat": 4,
 "nbformat_minor": 2
}
