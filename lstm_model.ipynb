{
 "cells": [
  {
   "cell_type": "code",
   "execution_count": 1,
   "metadata": {},
   "outputs": [],
   "source": [
    "\n",
    "import pandas as pd\n",
    "from sklearn.preprocessing import StandardScaler\n",
    "df = pd.read_pickle('dataset/clean_dataset.pkl')\n"
   ]
  },
  {
   "cell_type": "code",
   "execution_count": 17,
   "metadata": {},
   "outputs": [
    {
     "name": "stderr",
     "output_type": "stream",
     "text": [
      "/tmp/ipykernel_12603/827263786.py:11: SettingWithCopyWarning: \n",
      "A value is trying to be set on a copy of a slice from a DataFrame.\n",
      "Try using .loc[row_indexer,col_indexer] = value instead\n",
      "\n",
      "See the caveats in the documentation: https://pandas.pydata.org/pandas-docs/stable/user_guide/indexing.html#returning-a-view-versus-a-copy\n",
      "  data['Timestamp'] = pd.to_numeric(data['Timestamp'])\n",
      "/home/guillaume/.local/lib/python3.10/site-packages/sklearn/base.py:493: FutureWarning: The feature names should match those that were passed during fit. Starting version 1.2, an error will be raised.\n",
      "Feature names unseen at fit time:\n",
      "- AIT202\n",
      "- AIT203\n",
      "- AIT401\n",
      "- AIT402\n",
      "- AIT501\n",
      "- ...\n",
      "\n",
      "  warnings.warn(message, FutureWarning)\n"
     ]
    }
   ],
   "source": [
    "training_size = int(len(df) /100 * 95)\n",
    "test_size = int(len(df) /100 * 5)\n",
    "\n",
    "cols_numeric = list(df.columns)\n",
    "\n",
    "# cols_numeric.remove('Timestamp')\n",
    "cols_numeric.remove('index')\n",
    "cols_numeric.remove('attack')\n",
    "# cols_numeric.remove('Normal/Attack')\n",
    "data = df[cols_numeric]\n",
    "data['Timestamp'] = pd.to_numeric(data['Timestamp'])\n",
    "\n",
    "\n",
    "train_set = data.iloc[0:training_size]\n",
    "test_set = data.iloc[training_size:len(df)]\n",
    "\n",
    "# We only fit on the trainset to avoid data leakage from the testset\n",
    "sc = StandardScaler().fit(data[['AIT201']])\n",
    "\n",
    "train_set[0:len(train_set)-1] = sc.transform(train_set[0:len(train_set)-1])\n",
    "train_set[0:len(test_set)-1] = sc.transform(test_set[0:len(test_set)-1])\n"
   ]
  }
 ],
 "metadata": {
  "kernelspec": {
   "display_name": "Python 3.10.4 64-bit",
   "language": "python",
   "name": "python3"
  },
  "language_info": {
   "codemirror_mode": {
    "name": "ipython",
    "version": 3
   },
   "file_extension": ".py",
   "mimetype": "text/x-python",
   "name": "python",
   "nbconvert_exporter": "python",
   "pygments_lexer": "ipython3",
   "version": "3.10.4"
  },
  "orig_nbformat": 4,
  "vscode": {
   "interpreter": {
    "hash": "31f2aee4e71d21fbe5cf8b01ff0e069b9275f58929596ceb00d14d90e3e16cd6"
   }
  }
 },
 "nbformat": 4,
 "nbformat_minor": 2
}
