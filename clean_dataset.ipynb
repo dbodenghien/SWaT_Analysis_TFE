{
 "cells": [
  {
   "cell_type": "code",
   "execution_count": 3,
   "metadata": {},
   "outputs": [],
   "source": [
    "\n",
    "import matplotlib.pyplot as plt\n",
    "import seaborn as sns\n",
    "import pandas as pd\n",
    "import numpy as np\n",
    "from sklearn.model_selection import train_test_split\n",
    "from sklearn.feature_selection import SelectKBest\n",
    "from sklearn.feature_selection import f_classif\n",
    "from matplotlib import pyplot\n",
    "\n",
    "sns.set()\n",
    "sns.set(rc={'figure.figsize':(11.7,8.27)})\n",
    "\n",
    "pd.set_option(\"display.max_columns\", None)\n",
    "pd.set_option('display.max_colwidth', None) #50 for truncated view, -1 for full view"
   ]
  },
  {
   "cell_type": "code",
   "execution_count": 4,
   "metadata": {},
   "outputs": [],
   "source": [
    "SWaT_Dataset_Normal_v0 = pd.read_pickle('dataset/SWaT_Dataset_Normal_v0.pkl')\n",
    "SWaT_Dataset_Normal_v1 = pd.read_pickle('dataset/SWaT_Dataset_Normal_v1.pkl')\n",
    "SWaT_Dataset_Attack_v0 = pd.read_pickle('dataset/SWaT_Dataset_Attack_v0.pkl')"
   ]
  },
  {
   "cell_type": "markdown",
   "metadata": {},
   "source": [
    "## Check difference between SWaT_Dataset_Normal_v0 and SWaT_Dataset_Normal_v1"
   ]
  },
  {
   "cell_type": "code",
   "execution_count": 5,
   "metadata": {},
   "outputs": [
    {
     "name": "stdout",
     "output_type": "stream",
     "text": [
      "496800\n",
      "495000\n",
      "449919\n"
     ]
    }
   ],
   "source": [
    "print(len(SWaT_Dataset_Normal_v0))\n",
    "print(len(SWaT_Dataset_Normal_v1))\n",
    "print(len(SWaT_Dataset_Attack_v0))"
   ]
  },
  {
   "cell_type": "markdown",
   "metadata": {},
   "source": [
    "### Check difference between SWaT_Dataset_Normal_v0 and SWaT_Dataset_Normal_v1"
   ]
  },
  {
   "cell_type": "code",
   "execution_count": 6,
   "metadata": {},
   "outputs": [],
   "source": [
    "d1 = SWaT_Dataset_Normal_v0.iloc[1800:]\n",
    "d2 = SWaT_Dataset_Normal_v1.iloc[:]"
   ]
  },
  {
   "cell_type": "code",
   "execution_count": 7,
   "metadata": {},
   "outputs": [],
   "source": [
    "d1 = d1.reset_index(drop=True)\n",
    "d2 = d2.reset_index(drop=True)"
   ]
  },
  {
   "cell_type": "code",
   "execution_count": 8,
   "metadata": {},
   "outputs": [],
   "source": [
    "d3 = pd.concat([d1['P1']['FIT101'], d2['P1']['FIT101']], axis=1)"
   ]
  },
  {
   "cell_type": "code",
   "execution_count": 9,
   "metadata": {},
   "outputs": [],
   "source": [
    "d3['difference'] = d3.apply(lambda x: x[0] - x[1], axis=1)"
   ]
  },
  {
   "cell_type": "code",
   "execution_count": 10,
   "metadata": {},
   "outputs": [
    {
     "data": {
      "text/plain": [
       "0.0"
      ]
     },
     "execution_count": 10,
     "metadata": {},
     "output_type": "execute_result"
    }
   ],
   "source": [
    "d3['difference'].sum()"
   ]
  },
  {
   "cell_type": "markdown",
   "metadata": {},
   "source": [
    "## Clean dataset"
   ]
  },
  {
   "cell_type": "code",
   "execution_count": 11,
   "metadata": {},
   "outputs": [],
   "source": [
    "SWaT_Dataset_Attack_v0.columns = SWaT_Dataset_Normal_v0.columns"
   ]
  },
  {
   "cell_type": "code",
   "execution_count": 12,
   "metadata": {},
   "outputs": [
    {
     "name": "stderr",
     "output_type": "stream",
     "text": [
      "/tmp/ipykernel_6518/2082133822.py:1: FutureWarning: The frame.append method is deprecated and will be removed from pandas in a future version. Use pandas.concat instead.\n",
      "  df = SWaT_Dataset_Normal_v0.append(SWaT_Dataset_Attack_v0)\n"
     ]
    }
   ],
   "source": [
    "df = SWaT_Dataset_Normal_v0.append(SWaT_Dataset_Attack_v0)\n",
    "df = df.reset_index(drop=True)"
   ]
  },
  {
   "cell_type": "markdown",
   "metadata": {},
   "source": [
    "Create clean dataset"
   ]
  },
  {
   "cell_type": "code",
   "execution_count": 13,
   "metadata": {},
   "outputs": [],
   "source": [
    "df = pd.concat([df['Unnamed: 0_level_0'], df['P1'], df['P2'], df['P3'], df['P4'], df['P5'], df['P6']], axis=1)"
   ]
  },
  {
   "cell_type": "code",
   "execution_count": 14,
   "metadata": {},
   "outputs": [
    {
     "name": "stdout",
     "output_type": "stream",
     "text": [
      " 2/1/2016 2:59:59 PM\n"
     ]
    },
    {
     "data": {
      "text/plain": [
       "Timestamp('2016-01-02 02:59:59')"
      ]
     },
     "execution_count": 14,
     "metadata": {},
     "output_type": "execute_result"
    }
   ],
   "source": [
    "time_1 = df.iloc[len(df)-1].values[0]\n",
    "print(time_1)\n",
    "time_1 = pd.to_datetime(time_1, format='%d/%m/%Y %H:%M:%S %p')\n",
    "time_1"
   ]
  },
  {
   "cell_type": "code",
   "execution_count": 15,
   "metadata": {},
   "outputs": [
    {
     "name": "stdout",
     "output_type": "stream",
     "text": [
      " 22/12/2015 4:00:00 PM\n"
     ]
    },
    {
     "data": {
      "text/plain": [
       "Timestamp('2015-12-22 16:00:00')"
      ]
     },
     "execution_count": 15,
     "metadata": {},
     "output_type": "execute_result"
    }
   ],
   "source": [
    "time_2 = df.iloc[0].values[0]\n",
    "print(time_2)\n",
    "time_2 = pd.to_datetime(time_2, format=' %d/%m/%Y %I:%M:%S %p')\n",
    "time_2"
   ]
  },
  {
   "cell_type": "markdown",
   "metadata": {},
   "source": [
    "Add index column"
   ]
  },
  {
   "cell_type": "code",
   "execution_count": 16,
   "metadata": {},
   "outputs": [],
   "source": [
    "df['index'] = [i for i in range(len(df))]"
   ]
  },
  {
   "cell_type": "markdown",
   "metadata": {},
   "source": [
    "Clean Timestamp column"
   ]
  },
  {
   "cell_type": "code",
   "execution_count": 17,
   "metadata": {},
   "outputs": [
    {
     "data": {
      "text/plain": [
       "' Timestamp'"
      ]
     },
     "execution_count": 17,
     "metadata": {},
     "output_type": "execute_result"
    }
   ],
   "source": [
    "list(df.columns)[0]"
   ]
  },
  {
   "cell_type": "code",
   "execution_count": 18,
   "metadata": {},
   "outputs": [],
   "source": [
    "df.rename(columns={' Timestamp':'Timestamp'}, inplace=True)"
   ]
  },
  {
   "cell_type": "code",
   "execution_count": 19,
   "metadata": {},
   "outputs": [],
   "source": [
    "df['Timestamp'] = pd.to_datetime(df['Timestamp'], format=' %d/%m/%Y %I:%M:%S %p')"
   ]
  },
  {
   "cell_type": "markdown",
   "metadata": {},
   "source": [
    "Clean Normal/Attack column"
   ]
  },
  {
   "cell_type": "code",
   "execution_count": 20,
   "metadata": {},
   "outputs": [
    {
     "data": {
      "text/plain": [
       "Normal     892098\n",
       "Attack      54584\n",
       "A ttack        37\n",
       "Name: Normal/Attack, dtype: int64"
      ]
     },
     "execution_count": 20,
     "metadata": {},
     "output_type": "execute_result"
    }
   ],
   "source": [
    "df['Normal/Attack'].value_counts()"
   ]
  },
  {
   "cell_type": "code",
   "execution_count": 21,
   "metadata": {},
   "outputs": [],
   "source": [
    "typos = {\n",
    "    \"Attack\": [\"A ttack\"],\n",
    "}\n",
    "c = \"Normal/Attack\"\n",
    "for expected, founds in typos.items():\n",
    "    for typo in founds:\n",
    "        s = df[c] == typo\n",
    "        df.loc[s, c] = expected"
   ]
  },
  {
   "cell_type": "code",
   "execution_count": 22,
   "metadata": {},
   "outputs": [
    {
     "data": {
      "text/plain": [
       "Normal    892098\n",
       "Attack     54621\n",
       "Name: Normal/Attack, dtype: int64"
      ]
     },
     "execution_count": 22,
     "metadata": {},
     "output_type": "execute_result"
    }
   ],
   "source": [
    "df['Normal/Attack'].value_counts()"
   ]
  },
  {
   "cell_type": "code",
   "execution_count": 23,
   "metadata": {},
   "outputs": [],
   "source": [
    "for col in df.columns:\n",
    "    if df[col].isna().sum() != 0:\n",
    "        print(col, df[col].isna().sum())"
   ]
  },
  {
   "cell_type": "markdown",
   "metadata": {},
   "source": [
    "## Feature Selection"
   ]
  },
  {
   "cell_type": "markdown",
   "metadata": {},
   "source": [
    "### 1st Method"
   ]
  },
  {
   "cell_type": "markdown",
   "metadata": {},
   "source": [
    "Check feature with a variance equal to zero"
   ]
  },
  {
   "cell_type": "code",
   "execution_count": 24,
   "metadata": {},
   "outputs": [
    {
     "name": "stdout",
     "output_type": "stream",
     "text": [
      "P202\n",
      "P401\n",
      "P404\n",
      "P502\n",
      "P601\n",
      "P603\n"
     ]
    }
   ],
   "source": [
    "cols_numeric = list(df.columns)\n",
    "cols_numeric.remove('Timestamp')\n",
    "cols_numeric.remove('Normal/Attack')\n",
    "cols_numeric.remove('index')\n",
    "for col in cols_numeric:\n",
    "    var = np.var(df[col])\n",
    "    if var == 0:\n",
    "        print(col)\n",
    "        cols_numeric.remove(col)"
   ]
  },
  {
   "cell_type": "markdown",
   "metadata": {},
   "source": [
    "remove feature with variance of 0"
   ]
  },
  {
   "cell_type": "code",
   "execution_count": 25,
   "metadata": {},
   "outputs": [],
   "source": [
    "#df = df.drop(columns=['P202','P401','P404','P502','P601','P603'])"
   ]
  },
  {
   "cell_type": "markdown",
   "metadata": {},
   "source": [
    "### 2nd Method"
   ]
  },
  {
   "cell_type": "markdown",
   "metadata": {},
   "source": [
    "use anova feature selection : check variance to verify if there is a significant difference between groups"
   ]
  },
  {
   "cell_type": "code",
   "execution_count": 29,
   "metadata": {},
   "outputs": [
    {
     "name": "stdout",
     "output_type": "stream",
     "text": [
      "492147    Normal\n",
      "911775    Normal\n",
      "786294    Normal\n",
      "782193    Normal\n",
      "684115    Normal\n",
      "           ...  \n",
      "491263    Normal\n",
      "791624    Normal\n",
      "470924    Normal\n",
      "491755    Normal\n",
      "128037    Normal\n",
      "Name: Normal/Attack, Length: 634301, dtype: object\n"
     ]
    }
   ],
   "source": [
    "cols_numeric = list(df.columns)\n",
    "cols_numeric.remove('Timestamp')\n",
    "cols_numeric.remove('index')\n",
    "data = df[cols_numeric]\n",
    "X = data.iloc[:, :-1]\n",
    "y = data.iloc[:,-1]\n",
    "\n",
    "# https://machinelearningmastery.com/feature-selection-with-numerical-input-data/\n",
    "X_train, X_test, y_train, y_test = train_test_split(X, y, test_size=0.33, random_state=1)\n",
    "print(y_train)"
   ]
  },
  {
   "cell_type": "code",
   "execution_count": 45,
   "metadata": {},
   "outputs": [
    {
     "name": "stderr",
     "output_type": "stream",
     "text": [
      "/home/guillaume/.local/lib/python3.10/site-packages/sklearn/feature_selection/_univariate_selection.py:110: UserWarning: Features [11 29 32 43 48 50] are constant.\n",
      "  warnings.warn(\"Features %s are constant.\" % constant_features_idx, UserWarning)\n",
      "/home/guillaume/.local/lib/python3.10/site-packages/sklearn/feature_selection/_univariate_selection.py:111: RuntimeWarning: invalid value encountered in divide\n",
      "  f = msb / msw\n"
     ]
    },
    {
     "name": "stdout",
     "output_type": "stream",
     "text": [
      "Feature 0: 29672.377088\n",
      "Feature 1: 45935.941346\n",
      "Feature 2: 27293.914314\n",
      "Feature 3: 41784.238427\n",
      "Feature 4: 34448.563802\n",
      "Feature 5: 41107.887615\n",
      "Feature 6: 21727.052269\n",
      "Feature 7: 121.508866\n",
      "Feature 8: 40028.314796\n",
      "Feature 9: 37563.870988\n",
      "Feature 10: 1397.247074\n",
      "Feature 11: nan\n",
      "Feature 12: 41967.120368\n",
      "Feature 13: 703.837531\n",
      "Feature 14: 30364.315956\n",
      "Feature 15: 687.450391\n",
      "Feature 16: 48507.202492\n",
      "Feature 17: 71027.651826\n",
      "Feature 18: 17550.144510\n",
      "Feature 19: 103.248411\n",
      "Feature 20: 52022.189387\n",
      "Feature 21: 39.938208\n",
      "Feature 22: 246883.135722\n",
      "Feature 23: 81.715438\n",
      "Feature 24: 66588.765635\n",
      "Feature 25: 3694.783998\n",
      "Feature 26: 438987.336347\n",
      "Feature 27: 752251.435751\n",
      "Feature 28: 364015.503575\n",
      "Feature 29: nan\n",
      "Feature 30: 676087.971693\n",
      "Feature 31: 2.385597\n",
      "Feature 32: nan\n",
      "Feature 33: 738942.770019\n",
      "Feature 34: 262105.608383\n",
      "Feature 35: 171586.439556\n",
      "Feature 36: 553.725950\n",
      "Feature 37: 5359.745671\n",
      "Feature 38: 706877.403524\n",
      "Feature 39: 692137.175161\n",
      "Feature 40: 742596.594460\n",
      "Feature 41: 751884.161822\n",
      "Feature 42: 731974.924367\n",
      "Feature 43: nan\n",
      "Feature 44: 730045.922057\n",
      "Feature 45: 181476.411203\n",
      "Feature 46: 726872.133152\n",
      "Feature 47: 29.576855\n",
      "Feature 48: nan\n",
      "Feature 49: 24.413633\n",
      "Feature 50: nan\n"
     ]
    },
    {
     "data": {
      "image/png": "[encoded data removed]",
      "text/plain": [
       "<Figure size 1170x827 with 1 Axes>"
      ]
     },
     "metadata": {},
     "output_type": "display_data"
    },
    {
     "name": "stdout",
     "output_type": "stream",
     "text": [
      "<class 'numpy.float64'>\n",
      "29672.377088287452\n",
      "45935.94134572472\n",
      "27293.91431357528\n",
      "41784.23842740317\n",
      "34448.563801536024\n",
      "41107.88761523779\n",
      "21727.052268774896\n",
      "121.50886610749043\n",
      "40028.31479566484\n",
      "37563.87098819906\n",
      "1397.2470735296592\n",
      "41967.12036847884\n",
      "703.8375312207854\n",
      "30364.315956354625\n",
      "687.4503913919069\n",
      "48507.20249226133\n",
      "71027.65182565505\n",
      "17550.14451041041\n",
      "103.24841094960128\n",
      "52022.18938677132\n",
      "39.938207811704935\n",
      "246883.1357217386\n",
      "81.71543821279721\n",
      "66588.76563469881\n",
      "3694.783998386759\n",
      "438987.33634717215\n",
      "752251.4357510452\n",
      "364015.50357519294\n",
      "676087.9716932911\n",
      "2.3855970075701913\n",
      "738942.77001938\n",
      "262105.60838305685\n",
      "171586.43955599557\n",
      "553.7259501155042\n",
      "5359.74567102682\n",
      "706877.4035239434\n",
      "692137.1751610083\n",
      "742596.5944596495\n",
      "751884.1618218503\n",
      "731974.92436744\n",
      "730045.92205702\n",
      "181476.4112034375\n",
      "726872.1331516868\n",
      "29.576854652292592\n",
      "24.413632691663505\n",
      "Number of features : 51, Numbers of feature with a NOVA score = 0 : 6\n",
      "P403\n"
     ]
    }
   ],
   "source": [
    "\n",
    "fs = SelectKBest(score_func=f_classif, k='all')\n",
    "# learn relationship from training data\n",
    "fs.fit(X_train, y_train)\n",
    "# transform train input data\n",
    "X_train_fs = fs.transform(X_train)\n",
    "# transform test input data\n",
    "X_test_fs = fs.transform(X_test)\n",
    "\n",
    "\n",
    "# what are scores for the features\n",
    "for i in range(len(fs.scores_)):\n",
    "\tprint('Feature %d: %f' % (i, fs.scores_[i]))\n",
    "# plot the scores\n",
    "pyplot.bar([i for i in range(len(fs.scores_))], fs.scores_)\n",
    "pyplot.show()\n",
    "sum = 0\n",
    "print(type(fs.scores_[3]))\n",
    "for i in range(len(fs.scores_)):\n",
    "\tif ((fs.scores_[i])>1.0):\n",
    "\t\tprint(fs.scores_[i])\n",
    "\t\tsum +=1 \n",
    "print('Number of features : %d, Numbers of feature with a NOVA score = 0 : %d' % (len(fs.scores_),len(fs.scores_)-sum))\n",
    "# This features are the same as detected with a variance of 0 above but there are still some very low scores\n",
    "\n",
    "# print(cols_numeric[31]) P403\n",
    "# df = df.drop('P403') "
   ]
  },
  {
   "cell_type": "markdown",
   "metadata": {},
   "source": [
    "## **Normalization of dataset**"
   ]
  },
  {
   "cell_type": "code",
   "execution_count": 25,
   "metadata": {},
   "outputs": [],
   "source": [
    "cols_numeric = list(df.columns)\n",
    "cols_numeric.remove('Timestamp')\n",
    "cols_numeric.remove('Normal/Attack')\n",
    "cols_numeric.remove('index')"
   ]
  },
  {
   "cell_type": "markdown",
   "metadata": {},
   "source": [
    "mean normalization"
   ]
  },
  {
   "cell_type": "code",
   "execution_count": 26,
   "metadata": {},
   "outputs": [],
   "source": [
    "data = df[cols_numeric]\n",
    "mean_normalized_df = (data-data.mean())/data.std()"
   ]
  },
  {
   "cell_type": "markdown",
   "metadata": {},
   "source": [
    "min-max normalization"
   ]
  },
  {
   "cell_type": "code",
   "execution_count": 27,
   "metadata": {},
   "outputs": [],
   "source": [
    "data = df[cols_numeric]\n",
    "min_max_normalized_df = (data-data.min())/(data.max()-data.min())"
   ]
  },
  {
   "cell_type": "markdown",
   "metadata": {},
   "source": [
    "## Load list of attacks information"
   ]
  },
  {
   "cell_type": "code",
   "execution_count": 28,
   "metadata": {},
   "outputs": [],
   "source": [
    "attacks_list_df = pd.read_csv('attacks_df.csv')"
   ]
  },
  {
   "cell_type": "code",
   "execution_count": 29,
   "metadata": {},
   "outputs": [
    {
     "name": "stderr",
     "output_type": "stream",
     "text": [
      "/tmp/ipykernel_5452/3300264022.py:11: SettingWithCopyWarning: \n",
      "A value is trying to be set on a copy of a slice from a DataFrame\n",
      "\n",
      "See the caveats in the documentation: https://pandas.pydata.org/pandas-docs/stable/user_guide/indexing.html#returning-a-view-versus-a-copy\n",
      "  df['attack'].loc[s] = attack_num['num_attack']\n"
     ]
    }
   ],
   "source": [
    "attacks_list_df['start_time'] = pd.to_datetime(attacks_list_df['start_time'])\n",
    "attacks_list_df['end_time'] = pd.to_datetime(attacks_list_df['end_time'])\n",
    "df['Timestamp'] = pd.to_datetime(df['Timestamp'])\n",
    "\n",
    "delta_time = pd.Timedelta(minutes=0)\n",
    "\n",
    "df['attack'] = 0\n",
    "for i in range(len(attacks_list_df)):\n",
    "    attack_num = attacks_list_df.iloc[i]\n",
    "    s = df['Timestamp'].between(attack_num['start_time'] - delta_time, attack_num['end_time'] + delta_time)\n",
    "    df['attack'].loc[s] = attack_num['num_attack']"
   ]
  },
  {
   "cell_type": "code",
   "execution_count": 30,
   "metadata": {},
   "outputs": [],
   "source": [
    "df.to_pickle('dataset/clean_dataset.pkl')"
   ]
  }
 ],
 "metadata": {
  "kernelspec": {
   "display_name": "Python 3.10.4 64-bit",
   "language": "python",
   "name": "python3"
  },
  "language_info": {
   "codemirror_mode": {
    "name": "ipython",
    "version": 3
   },
   "file_extension": ".py",
   "mimetype": "text/x-python",
   "name": "python",
   "nbconvert_exporter": "python",
   "pygments_lexer": "ipython3",
   "version": "3.10.4"
  },
  "orig_nbformat": 4,
  "vscode": {
   "interpreter": {
    "hash": "916dbcbb3f70747c44a77c7bcd40155683ae19c65e1c03b4aa3499c5328201f1"
   }
  }
 },
 "nbformat": 4,
 "nbformat_minor": 2
}
