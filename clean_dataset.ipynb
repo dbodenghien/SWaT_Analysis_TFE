{
 "cells": [
  {
   "cell_type": "code",
   "execution_count": 4,
   "metadata": {},
   "outputs": [],
   "source": [
    "\n",
    "import matplotlib.pyplot as plt\n",
    "import seaborn as sns\n",
    "import pandas as pd\n",
    "import numpy as np\n",
    "from sklearn.model_selection import train_test_split\n",
    "from sklearn.feature_selection import SelectKBest\n",
    "from sklearn.feature_selection import f_classif\n",
    "from matplotlib import pyplot\n",
    "\n",
    "sns.set()\n",
    "sns.set(rc={'figure.figsize':(11.7,8.27)})\n",
    "\n",
    "pd.set_option(\"display.max_columns\", None)\n",
    "pd.set_option('display.max_colwidth', None) #50 for truncated view, -1 for full view"
   ]
  },
  {
   "cell_type": "code",
   "execution_count": 5,
   "metadata": {},
   "outputs": [],
   "source": [
    "SWaT_Dataset_Normal_v0 = pd.read_pickle('dataset/SWaT_Dataset_Normal_v0.pkl')\n",
    "SWaT_Dataset_Normal_v1 = pd.read_pickle('dataset/SWaT_Dataset_Normal_v1.pkl')\n",
    "SWaT_Dataset_Attack_v0 = pd.read_pickle('dataset/SWaT_Dataset_Attack_v0.pkl')"
   ]
  },
  {
   "cell_type": "markdown",
   "metadata": {},
   "source": [
    "## Check difference between SWaT_Dataset_Normal_v0 and SWaT_Dataset_Normal_v1"
   ]
  },
  {
   "cell_type": "code",
   "execution_count": 6,
   "metadata": {},
   "outputs": [
    {
     "name": "stdout",
     "output_type": "stream",
     "text": [
      "496800\n",
      "495000\n",
      "449919\n"
     ]
    }
   ],
   "source": [
    "print(len(SWaT_Dataset_Normal_v0))\n",
    "print(len(SWaT_Dataset_Normal_v1))\n",
    "print(len(SWaT_Dataset_Attack_v0))"
   ]
  },
  {
   "cell_type": "markdown",
   "metadata": {},
   "source": [
    "### Check difference between SWaT_Dataset_Normal_v0 and SWaT_Dataset_Normal_v1"
   ]
  },
  {
   "cell_type": "code",
   "execution_count": 7,
   "metadata": {},
   "outputs": [],
   "source": [
    "d1 = SWaT_Dataset_Normal_v0.iloc[1800:]\n",
    "d2 = SWaT_Dataset_Normal_v1.iloc[:]"
   ]
  },
  {
   "cell_type": "code",
   "execution_count": 8,
   "metadata": {},
   "outputs": [],
   "source": [
    "d1 = d1.reset_index(drop=True)\n",
    "d2 = d2.reset_index(drop=True)"
   ]
  },
  {
   "cell_type": "code",
   "execution_count": 9,
   "metadata": {},
   "outputs": [],
   "source": [
    "d3 = pd.concat([d1['P1']['FIT101'], d2['P1']['FIT101']], axis=1)"
   ]
  },
  {
   "cell_type": "code",
   "execution_count": 10,
   "metadata": {},
   "outputs": [],
   "source": [
    "d3['difference'] = d3.apply(lambda x: x[0] - x[1], axis=1)"
   ]
  },
  {
   "cell_type": "code",
   "execution_count": 11,
   "metadata": {},
   "outputs": [
    {
     "data": {
      "text/plain": [
       "0.0"
      ]
     },
     "execution_count": 11,
     "metadata": {},
     "output_type": "execute_result"
    }
   ],
   "source": [
    "d3['difference'].sum()"
   ]
  },
  {
   "cell_type": "markdown",
   "metadata": {},
   "source": [
    "## Clean dataset"
   ]
  },
  {
   "cell_type": "code",
   "execution_count": 12,
   "metadata": {},
   "outputs": [],
   "source": [
    "SWaT_Dataset_Attack_v0.columns = SWaT_Dataset_Normal_v0.columns"
   ]
  },
  {
   "cell_type": "code",
   "execution_count": 13,
   "metadata": {},
   "outputs": [
    {
     "name": "stderr",
     "output_type": "stream",
     "text": [
      "/tmp/ipykernel_14871/2082133822.py:1: FutureWarning: The frame.append method is deprecated and will be removed from pandas in a future version. Use pandas.concat instead.\n",
      "  df = SWaT_Dataset_Normal_v0.append(SWaT_Dataset_Attack_v0)\n"
     ]
    }
   ],
   "source": [
    "df = SWaT_Dataset_Normal_v0.append(SWaT_Dataset_Attack_v0)\n",
    "df = df.reset_index(drop=True)"
   ]
  },
  {
   "cell_type": "markdown",
   "metadata": {},
   "source": [
    "Create clean dataset"
   ]
  },
  {
   "cell_type": "code",
   "execution_count": 14,
   "metadata": {},
   "outputs": [],
   "source": [
    "df = pd.concat([df['Unnamed: 0_level_0'], df['P1'], df['P2'], df['P3'], df['P4'], df['P5'], df['P6']], axis=1)"
   ]
  },
  {
   "cell_type": "code",
   "execution_count": 15,
   "metadata": {},
   "outputs": [
    {
     "name": "stdout",
     "output_type": "stream",
     "text": [
      " 2/1/2016 2:59:59 PM\n"
     ]
    },
    {
     "data": {
      "text/plain": [
       "Timestamp('2016-01-02 02:59:59')"
      ]
     },
     "execution_count": 15,
     "metadata": {},
     "output_type": "execute_result"
    }
   ],
   "source": [
    "time_1 = df.iloc[len(df)-1].values[0]\n",
    "print(time_1)\n",
    "time_1 = pd.to_datetime(time_1, format='%d/%m/%Y %H:%M:%S %p')\n",
    "time_1"
   ]
  },
  {
   "cell_type": "code",
   "execution_count": 16,
   "metadata": {},
   "outputs": [
    {
     "name": "stdout",
     "output_type": "stream",
     "text": [
      " 22/12/2015 4:00:00 PM\n"
     ]
    },
    {
     "data": {
      "text/plain": [
       "Timestamp('2015-12-22 16:00:00')"
      ]
     },
     "execution_count": 16,
     "metadata": {},
     "output_type": "execute_result"
    }
   ],
   "source": [
    "time_2 = df.iloc[0].values[0]\n",
    "print(time_2)\n",
    "time_2 = pd.to_datetime(time_2, format=' %d/%m/%Y %I:%M:%S %p')\n",
    "time_2"
   ]
  },
  {
   "cell_type": "markdown",
   "metadata": {},
   "source": [
    "Add index column"
   ]
  },
  {
   "cell_type": "code",
   "execution_count": 17,
   "metadata": {},
   "outputs": [],
   "source": [
    "df['index'] = [i for i in range(len(df))]"
   ]
  },
  {
   "cell_type": "markdown",
   "metadata": {},
   "source": [
    "Clean Timestamp column"
   ]
  },
  {
   "cell_type": "code",
   "execution_count": 18,
   "metadata": {},
   "outputs": [
    {
     "data": {
      "text/plain": [
       "' Timestamp'"
      ]
     },
     "execution_count": 18,
     "metadata": {},
     "output_type": "execute_result"
    }
   ],
   "source": [
    "list(df.columns)[0]"
   ]
  },
  {
   "cell_type": "code",
   "execution_count": 19,
   "metadata": {},
   "outputs": [],
   "source": [
    "df.rename(columns={' Timestamp':'Timestamp'}, inplace=True)"
   ]
  },
  {
   "cell_type": "code",
   "execution_count": 20,
   "metadata": {},
   "outputs": [],
   "source": [
    "df['Timestamp'] = pd.to_datetime(df['Timestamp'], format=' %d/%m/%Y %I:%M:%S %p')"
   ]
  },
  {
   "cell_type": "markdown",
   "metadata": {},
   "source": [
    "Clean Normal/Attack column"
   ]
  },
  {
   "cell_type": "code",
   "execution_count": 21,
   "metadata": {},
   "outputs": [
    {
     "data": {
      "text/plain": [
       "Normal     892098\n",
       "Attack      54584\n",
       "A ttack        37\n",
       "Name: Normal/Attack, dtype: int64"
      ]
     },
     "execution_count": 21,
     "metadata": {},
     "output_type": "execute_result"
    }
   ],
   "source": [
    "df['Normal/Attack'].value_counts()"
   ]
  },
  {
   "cell_type": "code",
   "execution_count": 22,
   "metadata": {},
   "outputs": [],
   "source": [
    "typos = {\n",
    "    \"Attack\": [\"A ttack\"],\n",
    "}\n",
    "c = \"Normal/Attack\"\n",
    "for expected, founds in typos.items():\n",
    "    for typo in founds:\n",
    "        s = df[c] == typo\n",
    "        df.loc[s, c] = expected"
   ]
  },
  {
   "cell_type": "code",
   "execution_count": 23,
   "metadata": {},
   "outputs": [
    {
     "data": {
      "text/plain": [
       "Normal    892098\n",
       "Attack     54621\n",
       "Name: Normal/Attack, dtype: int64"
      ]
     },
     "execution_count": 23,
     "metadata": {},
     "output_type": "execute_result"
    }
   ],
   "source": [
    "df['Normal/Attack'].value_counts()"
   ]
  },
  {
   "cell_type": "code",
   "execution_count": 24,
   "metadata": {},
   "outputs": [],
   "source": [
    "for col in df.columns:\n",
    "    if df[col].isna().sum() != 0:\n",
    "        print(col, df[col].isna().sum())"
   ]
  },
  {
   "cell_type": "markdown",
   "metadata": {},
   "source": [
    "## Feature Selection"
   ]
  },
  {
   "cell_type": "markdown",
   "metadata": {},
   "source": [
    "### 1st Method"
   ]
  },
  {
   "cell_type": "markdown",
   "metadata": {},
   "source": [
    "Check feature with a variance equal to zero"
   ]
  },
  {
   "cell_type": "code",
   "execution_count": null,
   "metadata": {},
   "outputs": [],
   "source": [
    "cols_numeric = list(df.columns)\n",
    "cols_numeric.remove('Timestamp')\n",
    "cols_numeric.remove('Normal/Attack')\n",
    "cols_numeric.remove('index')\n",
    "for col in cols_numeric:\n",
    "    var = np.var(df[col])\n",
    "    if var == 0:\n",
    "        print(col)\n",
    "        cols_numeric.remove(col)"
   ]
  },
  {
   "cell_type": "markdown",
   "metadata": {},
   "source": [
    "remove feature with variance of 0"
   ]
  },
  {
   "cell_type": "code",
   "execution_count": null,
   "metadata": {},
   "outputs": [],
   "source": [
    "#df = df.drop(columns=['P202','P401','P404','P502','P601','P603'])"
   ]
  },
  {
   "cell_type": "markdown",
   "metadata": {},
   "source": [
    "### 2nd Method : Filter methods"
   ]
  },
  {
   "cell_type": "markdown",
   "metadata": {},
   "source": [
    "A. Anova feature selection : check variance to verify if there is a significant difference between groups"
   ]
  },
  {
   "cell_type": "code",
   "execution_count": null,
   "metadata": {},
   "outputs": [],
   "source": [
    "cols_numeric = list(df.columns)\n",
    "cols_numeric.remove('Timestamp')\n",
    "cols_numeric.remove('index')\n",
    "data = df[cols_numeric]\n",
    "X = data.iloc[:, :-1]\n",
    "y = data.iloc[:,-1]\n",
    "\n",
    "# https://machinelearningmastery.com/feature-selection-with-numerical-input-data/\n",
    "X_train, X_test, y_train, y_test = train_test_split(X, y, test_size=0.33, random_state=1)"
   ]
  },
  {
   "cell_type": "code",
   "execution_count": null,
   "metadata": {},
   "outputs": [],
   "source": [
    "\n",
    "fs = SelectKBest(score_func=f_classif, k='all')\n",
    "# learn relationship from training data\n",
    "fs.fit(X_train, y_train)\n",
    "# transform train input data\n",
    "X_train_fs = fs.transform(X_train)\n",
    "# transform test input data\n",
    "X_test_fs = fs.transform(X_test)\n",
    "\n",
    "\n",
    "# what are scores for the features\n",
    "for i in range(len(fs.scores_)):\n",
    "\tprint('Feature %d: %f' % (i, fs.scores_[i]))\n",
    "# plot the scores\n",
    "pyplot.bar([i for i in range(len(fs.scores_))], fs.scores_)\n",
    "pyplot.show()\n",
    "sum = 0\n",
    "print(type(fs.scores_[3]))\n",
    "for i in range(len(fs.scores_)):\n",
    "\tif ((fs.scores_[i])>1.0):\n",
    "\t\tprint(fs.scores_[i])\n",
    "\t\tsum +=1 \n",
    "print('Number of features : %d, Numbers of feature with a NOVA score = 0 : %d' % (len(fs.scores_),len(fs.scores_)-sum))\n",
    "# This features are the same as detected with a variance of 0 above but there are still some very low scores\n",
    "\n",
    "# print(cols_numeric[31]) P403\n",
    "# df = df.drop(columns=['P403']) \n",
    "print(df['P403'])"
   ]
  },
  {
   "cell_type": "markdown",
   "metadata": {},
   "source": [
    "B. Information gain : calculates the reduction in entropy from the transformation of a dataset. It can be used for feature selection by evaluating the Information gain of each variable in the context of the target variable."
   ]
  },
  {
   "cell_type": "code",
   "execution_count": 25,
   "metadata": {},
   "outputs": [
    {
     "ename": "AttributeError",
     "evalue": "'DataFrame' object has no attribute 'colmuns'",
     "output_type": "error",
     "traceback": [
      "\u001b[0;31m---------------------------------------------------------------------------\u001b[0m",
      "\u001b[0;31mAttributeError\u001b[0m                            Traceback (most recent call last)",
      "\u001b[1;32m/home/guillaume/Desktop/MT/SWaT_Analysis_TFE/clean_dataset.ipynb Cell 40\u001b[0m in \u001b[0;36m<cell line: 13>\u001b[0;34m()\u001b[0m\n\u001b[1;32m     <a href='vscode-notebook-cell:/home/guillaume/Desktop/MT/SWaT_Analysis_TFE/clean_dataset.ipynb#Y102sZmlsZQ%3D%3D?line=10'>11</a>\u001b[0m \u001b[39m# # https://www.analyticsvidhya.com/blog/2020/10/feature-selection-techniques-in-machine-learning/\u001b[39;00m\n\u001b[1;32m     <a href='vscode-notebook-cell:/home/guillaume/Desktop/MT/SWaT_Analysis_TFE/clean_dataset.ipynb#Y102sZmlsZQ%3D%3D?line=11'>12</a>\u001b[0m importances \u001b[39m=\u001b[39m mutual_info_classif(X,y)\n\u001b[0;32m---> <a href='vscode-notebook-cell:/home/guillaume/Desktop/MT/SWaT_Analysis_TFE/clean_dataset.ipynb#Y102sZmlsZQ%3D%3D?line=12'>13</a>\u001b[0m feat_importances \u001b[39m=\u001b[39m pd\u001b[39m.\u001b[39mSeries(importances, data\u001b[39m.\u001b[39;49mcolmuns[\u001b[39m0\u001b[39m:\u001b[39mlen\u001b[39m(data\u001b[39m.\u001b[39mcolumns)\u001b[39m-\u001b[39m\u001b[39m1\u001b[39m])\n\u001b[1;32m     <a href='vscode-notebook-cell:/home/guillaume/Desktop/MT/SWaT_Analysis_TFE/clean_dataset.ipynb#Y102sZmlsZQ%3D%3D?line=13'>14</a>\u001b[0m feat_importances\u001b[39m.\u001b[39mplot(kind\u001b[39m=\u001b[39m\u001b[39m'\u001b[39m\u001b[39mbarh\u001b[39m\u001b[39m'\u001b[39m,color\u001b[39m=\u001b[39m\u001b[39m'\u001b[39m\u001b[39mteal\u001b[39m\u001b[39m'\u001b[39m)\n\u001b[1;32m     <a href='vscode-notebook-cell:/home/guillaume/Desktop/MT/SWaT_Analysis_TFE/clean_dataset.ipynb#Y102sZmlsZQ%3D%3D?line=14'>15</a>\u001b[0m plt\u001b[39m.\u001b[39mshow()\n",
      "File \u001b[0;32m~/.local/lib/python3.10/site-packages/pandas/core/generic.py:5575\u001b[0m, in \u001b[0;36mNDFrame.__getattr__\u001b[0;34m(self, name)\u001b[0m\n\u001b[1;32m   5568\u001b[0m \u001b[39mif\u001b[39;00m (\n\u001b[1;32m   5569\u001b[0m     name \u001b[39mnot\u001b[39;00m \u001b[39min\u001b[39;00m \u001b[39mself\u001b[39m\u001b[39m.\u001b[39m_internal_names_set\n\u001b[1;32m   5570\u001b[0m     \u001b[39mand\u001b[39;00m name \u001b[39mnot\u001b[39;00m \u001b[39min\u001b[39;00m \u001b[39mself\u001b[39m\u001b[39m.\u001b[39m_metadata\n\u001b[1;32m   5571\u001b[0m     \u001b[39mand\u001b[39;00m name \u001b[39mnot\u001b[39;00m \u001b[39min\u001b[39;00m \u001b[39mself\u001b[39m\u001b[39m.\u001b[39m_accessors\n\u001b[1;32m   5572\u001b[0m     \u001b[39mand\u001b[39;00m \u001b[39mself\u001b[39m\u001b[39m.\u001b[39m_info_axis\u001b[39m.\u001b[39m_can_hold_identifiers_and_holds_name(name)\n\u001b[1;32m   5573\u001b[0m ):\n\u001b[1;32m   5574\u001b[0m     \u001b[39mreturn\u001b[39;00m \u001b[39mself\u001b[39m[name]\n\u001b[0;32m-> 5575\u001b[0m \u001b[39mreturn\u001b[39;00m \u001b[39mobject\u001b[39;49m\u001b[39m.\u001b[39;49m\u001b[39m__getattribute__\u001b[39;49m(\u001b[39mself\u001b[39;49m, name)\n",
      "\u001b[0;31mAttributeError\u001b[0m: 'DataFrame' object has no attribute 'colmuns'"
     ]
    }
   ],
   "source": [
    "from sklearn.feature_selection import mutual_info_classif\n",
    "import matplotlib.pyplot as plt\n",
    "%matplotlib inline\n",
    "\n",
    "cols_numeric = list(df.columns)\n",
    "cols_numeric.remove('Timestamp')\n",
    "cols_numeric.remove('index')\n",
    "data = df[cols_numeric]\n",
    "X = data.iloc[:, :-1]\n",
    "y = data.iloc[:,-1]\n",
    "# # https://www.analyticsvidhya.com/blog/2020/10/feature-selection-techniques-in-machine-learning/\n",
    "importances = mutual_info_classif(X,y)\n",
    "feat_importances = pd.Series(importances, data.columns[0:len(data.columns)-1])\n",
    "feat_importances.plot(kind='barh',color='teal')\n",
    "plt.show()"
   ]
  },
  {
   "cell_type": "markdown",
   "metadata": {},
   "source": [
    "C. Correlation Coefficient"
   ]
  },
  {
   "cell_type": "code",
   "execution_count": 30,
   "metadata": {},
   "outputs": [
    {
     "data": {
      "text/plain": [
       "<AxesSubplot:>"
      ]
     },
     "execution_count": 30,
     "metadata": {},
     "output_type": "execute_result"
    },
    {
     "data": {
      "image/png": "[encoded data removed]",
      "text/plain": [
       "<Figure size 1170x827 with 2 Axes>"
      ]
     },
     "metadata": {},
     "output_type": "display_data"
    }
   ],
   "source": [
    "cor = data.corr()\n",
    "sns.heatmap(cor)"
   ]
  },
  {
   "cell_type": "markdown",
   "metadata": {},
   "source": [
    "### 3rd method : Wrappers require some method to search the space of all possible subsets of features, assessing their quality by learning and evaluating a classifier with that feature subset"
   ]
  },
  {
   "cell_type": "code",
   "execution_count": null,
   "metadata": {},
   "outputs": [],
   "source": [
    "# https://www.analyticsvidhya.com/blog/2020/10/feature-selection-techniques-in-machine-learning/"
   ]
  },
  {
   "cell_type": "markdown",
   "metadata": {},
   "source": [
    "## **Normalization of dataset**"
   ]
  },
  {
   "cell_type": "code",
   "execution_count": null,
   "metadata": {},
   "outputs": [],
   "source": [
    "cols_numeric = list(df.columns)\n",
    "cols_numeric.remove('Timestamp')\n",
    "cols_numeric.remove('Normal/Attack')\n",
    "cols_numeric.remove('index')"
   ]
  },
  {
   "cell_type": "markdown",
   "metadata": {},
   "source": [
    "mean normalization"
   ]
  },
  {
   "cell_type": "code",
   "execution_count": null,
   "metadata": {},
   "outputs": [],
   "source": [
    "data = df[cols_numeric]\n",
    "mean_normalized_df = (data-data.mean())/data.std()"
   ]
  },
  {
   "cell_type": "markdown",
   "metadata": {},
   "source": [
    "min-max normalization"
   ]
  },
  {
   "cell_type": "code",
   "execution_count": null,
   "metadata": {},
   "outputs": [],
   "source": [
    "data = df[cols_numeric]\n",
    "min_max_normalized_df = (data-data.min())/(data.max()-data.min())"
   ]
  },
  {
   "cell_type": "markdown",
   "metadata": {},
   "source": [
    "## Load list of attacks information"
   ]
  },
  {
   "cell_type": "code",
   "execution_count": null,
   "metadata": {},
   "outputs": [],
   "source": [
    "attacks_list_df = pd.read_csv('attacks_df.csv')"
   ]
  },
  {
   "cell_type": "code",
   "execution_count": null,
   "metadata": {},
   "outputs": [],
   "source": [
    "attacks_list_df['start_time'] = pd.to_datetime(attacks_list_df['start_time'])\n",
    "attacks_list_df['end_time'] = pd.to_datetime(attacks_list_df['end_time'])\n",
    "df['Timestamp'] = pd.to_datetime(df['Timestamp'])\n",
    "\n",
    "delta_time = pd.Timedelta(minutes=0)\n",
    "\n",
    "df['attack'] = 0\n",
    "for i in range(len(attacks_list_df)):\n",
    "    attack_num = attacks_list_df.iloc[i]\n",
    "    s = df['Timestamp'].between(attack_num['start_time'] - delta_time, attack_num['end_time'] + delta_time)\n",
    "    df['attack'].loc[s] = attack_num['num_attack']"
   ]
  },
  {
   "cell_type": "code",
   "execution_count": null,
   "metadata": {},
   "outputs": [],
   "source": [
    "df.to_pickle('dataset/clean_dataset.pkl')"
   ]
  }
 ],
 "metadata": {
  "kernelspec": {
   "display_name": "Python 3.10.4 64-bit",
   "language": "python",
   "name": "python3"
  },
  "language_info": {
   "codemirror_mode": {
    "name": "ipython",
    "version": 3
   },
   "file_extension": ".py",
   "mimetype": "text/x-python",
   "name": "python",
   "nbconvert_exporter": "python",
   "pygments_lexer": "ipython3",
   "version": "3.10.4"
  },
  "orig_nbformat": 4,
  "vscode": {
   "interpreter": {
    "hash": "916dbcbb3f70747c44a77c7bcd40155683ae19c65e1c03b4aa3499c5328201f1"
   }
  }
 },
 "nbformat": 4,
 "nbformat_minor": 2
}
