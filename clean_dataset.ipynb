{
 "cells": [
  {
   "cell_type": "code",
   "execution_count": 1,
   "metadata": {},
   "outputs": [],
   "source": [
    "\n",
    "import matplotlib.pyplot as plt\n",
    "import seaborn as sns\n",
    "import pandas as pd\n",
    "import numpy as np\n",
    "from sklearn.model_selection import train_test_split\n",
    "from sklearn.feature_selection import SelectKBest\n",
    "from sklearn.feature_selection import f_classif\n",
    "from matplotlib import pyplot\n",
    "\n",
    "sns.set()\n",
    "sns.set(rc={'figure.figsize':(11.7,8.27)})\n",
    "\n",
    "pd.set_option(\"display.max_columns\", None)\n",
    "pd.set_option('display.max_colwidth', None) #50 for truncated view, -1 for full view"
   ]
  },
  {
   "cell_type": "code",
   "execution_count": 2,
   "metadata": {},
   "outputs": [],
   "source": [
    "SWaT_Dataset_Normal_v0 = pd.read_pickle('dataset/SWaT_Dataset_Normal_v0.pkl')\n",
    "SWaT_Dataset_Normal_v1 = pd.read_pickle('dataset/SWaT_Dataset_Normal_v1.pkl')\n",
    "SWaT_Dataset_Attack_v0 = pd.read_pickle('dataset/SWaT_Dataset_Attack_v0.pkl')"
   ]
  },
  {
   "cell_type": "markdown",
   "metadata": {},
   "source": [
    "## Check difference between SWaT_Dataset_Normal_v0 and SWaT_Dataset_Normal_v1"
   ]
  },
  {
   "cell_type": "code",
   "execution_count": 3,
   "metadata": {},
   "outputs": [
    {
     "name": "stdout",
     "output_type": "stream",
     "text": [
      "496800\n",
      "495000\n",
      "449919\n"
     ]
    }
   ],
   "source": [
    "print(len(SWaT_Dataset_Normal_v0))\n",
    "print(len(SWaT_Dataset_Normal_v1))\n",
    "print(len(SWaT_Dataset_Attack_v0))"
   ]
  },
  {
   "cell_type": "markdown",
   "metadata": {},
   "source": [
    "### Check difference between SWaT_Dataset_Normal_v0 and SWaT_Dataset_Normal_v1"
   ]
  },
  {
   "cell_type": "code",
   "execution_count": 4,
   "metadata": {},
   "outputs": [],
   "source": [
    "d1 = SWaT_Dataset_Normal_v0.iloc[1800:]\n",
    "d2 = SWaT_Dataset_Normal_v1.iloc[:]"
   ]
  },
  {
   "cell_type": "code",
   "execution_count": 5,
   "metadata": {},
   "outputs": [],
   "source": [
    "d1 = d1.reset_index(drop=True)\n",
    "d2 = d2.reset_index(drop=True)"
   ]
  },
  {
   "cell_type": "code",
   "execution_count": 6,
   "metadata": {},
   "outputs": [],
   "source": [
    "d3 = pd.concat([d1['P1']['FIT101'], d2['P1']['FIT101']], axis=1)"
   ]
  },
  {
   "cell_type": "code",
   "execution_count": 7,
   "metadata": {},
   "outputs": [],
   "source": [
    "d3['difference'] = d3.apply(lambda x: x[0] - x[1], axis=1)"
   ]
  },
  {
   "cell_type": "code",
   "execution_count": 8,
   "metadata": {},
   "outputs": [
    {
     "data": {
      "text/plain": [
       "0.0"
      ]
     },
     "execution_count": 8,
     "metadata": {},
     "output_type": "execute_result"
    }
   ],
   "source": [
    "d3['difference'].sum()"
   ]
  },
  {
   "cell_type": "markdown",
   "metadata": {},
   "source": [
    "## Clean dataset"
   ]
  },
  {
   "cell_type": "code",
   "execution_count": 9,
   "metadata": {},
   "outputs": [],
   "source": [
    "SWaT_Dataset_Attack_v0.columns = SWaT_Dataset_Normal_v0.columns"
   ]
  },
  {
   "cell_type": "code",
   "execution_count": 10,
   "metadata": {},
   "outputs": [
    {
     "name": "stderr",
     "output_type": "stream",
     "text": [
      "/var/folders/cc/whpcb33912lfp0b714xmf83m0000gn/T/ipykernel_7339/2082133822.py:1: FutureWarning: The frame.append method is deprecated and will be removed from pandas in a future version. Use pandas.concat instead.\n",
      "  df = SWaT_Dataset_Normal_v0.append(SWaT_Dataset_Attack_v0)\n"
     ]
    }
   ],
   "source": [
    "df = SWaT_Dataset_Normal_v0.append(SWaT_Dataset_Attack_v0)\n",
    "df = df.reset_index(drop=True)"
   ]
  },
  {
   "cell_type": "markdown",
   "metadata": {},
   "source": [
    "Create clean dataset"
   ]
  },
  {
   "cell_type": "code",
   "execution_count": 11,
   "metadata": {},
   "outputs": [],
   "source": [
    "df = pd.concat([df['Unnamed: 0_level_0'], df['P1'], df['P2'], df['P3'], df['P4'], df['P5'], df['P6']], axis=1)"
   ]
  },
  {
   "cell_type": "code",
   "execution_count": 12,
   "metadata": {},
   "outputs": [
    {
     "name": "stdout",
     "output_type": "stream",
     "text": [
      " 2/1/2016 2:59:59 PM\n"
     ]
    },
    {
     "data": {
      "text/plain": [
       "Timestamp('2016-01-02 02:59:59')"
      ]
     },
     "execution_count": 12,
     "metadata": {},
     "output_type": "execute_result"
    }
   ],
   "source": [
    "time_1 = df.iloc[len(df)-1].values[0]\n",
    "print(time_1)\n",
    "time_1 = pd.to_datetime(time_1, format='%d/%m/%Y %H:%M:%S %p')\n",
    "time_1"
   ]
  },
  {
   "cell_type": "code",
   "execution_count": 13,
   "metadata": {},
   "outputs": [
    {
     "name": "stdout",
     "output_type": "stream",
     "text": [
      " 22/12/2015 4:00:00 PM\n"
     ]
    },
    {
     "data": {
      "text/plain": [
       "Timestamp('2015-12-22 16:00:00')"
      ]
     },
     "execution_count": 13,
     "metadata": {},
     "output_type": "execute_result"
    }
   ],
   "source": [
    "time_2 = df.iloc[0].values[0]\n",
    "print(time_2)\n",
    "time_2 = pd.to_datetime(time_2, format=' %d/%m/%Y %I:%M:%S %p')\n",
    "time_2"
   ]
  },
  {
   "cell_type": "markdown",
   "metadata": {},
   "source": [
    "Add index column"
   ]
  },
  {
   "cell_type": "code",
   "execution_count": 14,
   "metadata": {},
   "outputs": [],
   "source": [
    "df['index'] = [i for i in range(len(df))]"
   ]
  },
  {
   "cell_type": "markdown",
   "metadata": {},
   "source": [
    "Clean Timestamp column"
   ]
  },
  {
   "cell_type": "code",
   "execution_count": 15,
   "metadata": {},
   "outputs": [
    {
     "data": {
      "text/plain": [
       "' Timestamp'"
      ]
     },
     "execution_count": 15,
     "metadata": {},
     "output_type": "execute_result"
    }
   ],
   "source": [
    "list(df.columns)[0]"
   ]
  },
  {
   "cell_type": "code",
   "execution_count": 16,
   "metadata": {},
   "outputs": [],
   "source": [
    "df.rename(columns={' Timestamp':'Timestamp'}, inplace=True)"
   ]
  },
  {
   "cell_type": "markdown",
   "metadata": {},
   "source": [
    "set the format on timestamp "
   ]
  },
  {
   "cell_type": "code",
   "execution_count": 17,
   "metadata": {},
   "outputs": [],
   "source": [
    "df['Timestamp'] = pd.to_datetime(df['Timestamp'], format=' %d/%m/%Y %I:%M:%S %p')"
   ]
  },
  {
   "cell_type": "markdown",
   "metadata": {},
   "source": [
    "Clean Normal/Attack column"
   ]
  },
  {
   "cell_type": "code",
   "execution_count": 18,
   "metadata": {},
   "outputs": [
    {
     "data": {
      "text/plain": [
       "Normal     892098\n",
       "Attack      54584\n",
       "A ttack        37\n",
       "Name: Normal/Attack, dtype: int64"
      ]
     },
     "execution_count": 18,
     "metadata": {},
     "output_type": "execute_result"
    }
   ],
   "source": [
    "df['Normal/Attack'].value_counts()"
   ]
  },
  {
   "cell_type": "code",
   "execution_count": 19,
   "metadata": {},
   "outputs": [],
   "source": [
    "typos = {\n",
    "    \"Attack\": [\"A ttack\"],\n",
    "}\n",
    "c = \"Normal/Attack\"\n",
    "for expected, founds in typos.items():\n",
    "    for typo in founds:\n",
    "        s = df[c] == typo\n",
    "        df.loc[s, c] = expected"
   ]
  },
  {
   "cell_type": "code",
   "execution_count": 20,
   "metadata": {},
   "outputs": [
    {
     "data": {
      "text/plain": [
       "Normal    892098\n",
       "Attack     54621\n",
       "Name: Normal/Attack, dtype: int64"
      ]
     },
     "execution_count": 20,
     "metadata": {},
     "output_type": "execute_result"
    }
   ],
   "source": [
    "df['Normal/Attack'].value_counts()"
   ]
  },
  {
   "cell_type": "code",
   "execution_count": 21,
   "metadata": {},
   "outputs": [],
   "source": [
    "for col in df.columns:\n",
    "    if df[col].isna().sum() != 0:\n",
    "        print(col, df[col].isna().sum())"
   ]
  },
  {
   "cell_type": "markdown",
   "metadata": {},
   "source": [
    "Start at 20h the dataset to remove the start process "
   ]
  },
  {
   "cell_type": "code",
   "execution_count": 22,
   "metadata": {},
   "outputs": [],
   "source": [
    "df = df[df['Timestamp'] > '2015-12-22 19:59:59']\n",
    "df = df.reset_index(drop=True)"
   ]
  },
  {
   "cell_type": "markdown",
   "metadata": {},
   "source": [
    "remove the label attack of an unreal attack start at 2015-12-22 6:30:00 and end at 6:42:00"
   ]
  },
  {
   "cell_type": "code",
   "execution_count": 23,
   "metadata": {},
   "outputs": [
    {
     "data": {
      "text/html": [
       "<div>\n",
       "<style scoped>\n",
       "    .dataframe tbody tr th:only-of-type {\n",
       "        vertical-align: middle;\n",
       "    }\n",
       "\n",
       "    .dataframe tbody tr th {\n",
       "        vertical-align: top;\n",
       "    }\n",
       "\n",
       "    .dataframe thead th {\n",
       "        text-align: right;\n",
       "    }\n",
       "</style>\n",
       "<table border=\"1\" class=\"dataframe\">\n",
       "  <thead>\n",
       "    <tr style=\"text-align: right;\">\n",
       "      <th></th>\n",
       "      <th>Timestamp</th>\n",
       "      <th>Normal/Attack</th>\n",
       "    </tr>\n",
       "  </thead>\n",
       "  <tbody>\n",
       "    <tr>\n",
       "      <th>556199</th>\n",
       "      <td>2015-12-29 06:29:59</td>\n",
       "      <td>Normal</td>\n",
       "    </tr>\n",
       "    <tr>\n",
       "      <th>556200</th>\n",
       "      <td>2015-12-29 06:30:00</td>\n",
       "      <td>Attack</td>\n",
       "    </tr>\n",
       "    <tr>\n",
       "      <th>556201</th>\n",
       "      <td>2015-12-29 06:30:01</td>\n",
       "      <td>Attack</td>\n",
       "    </tr>\n",
       "    <tr>\n",
       "      <th>556202</th>\n",
       "      <td>2015-12-29 06:30:02</td>\n",
       "      <td>Attack</td>\n",
       "    </tr>\n",
       "    <tr>\n",
       "      <th>556203</th>\n",
       "      <td>2015-12-29 06:30:03</td>\n",
       "      <td>Attack</td>\n",
       "    </tr>\n",
       "    <tr>\n",
       "      <th>...</th>\n",
       "      <td>...</td>\n",
       "      <td>...</td>\n",
       "    </tr>\n",
       "    <tr>\n",
       "      <th>556917</th>\n",
       "      <td>2015-12-29 06:41:57</td>\n",
       "      <td>Attack</td>\n",
       "    </tr>\n",
       "    <tr>\n",
       "      <th>556918</th>\n",
       "      <td>2015-12-29 06:41:58</td>\n",
       "      <td>Attack</td>\n",
       "    </tr>\n",
       "    <tr>\n",
       "      <th>556919</th>\n",
       "      <td>2015-12-29 06:41:59</td>\n",
       "      <td>Attack</td>\n",
       "    </tr>\n",
       "    <tr>\n",
       "      <th>556920</th>\n",
       "      <td>2015-12-29 06:42:00</td>\n",
       "      <td>Attack</td>\n",
       "    </tr>\n",
       "    <tr>\n",
       "      <th>556921</th>\n",
       "      <td>2015-12-29 06:42:01</td>\n",
       "      <td>Normal</td>\n",
       "    </tr>\n",
       "  </tbody>\n",
       "</table>\n",
       "<p>723 rows × 2 columns</p>\n",
       "</div>"
      ],
      "text/plain": [
       "                 Timestamp Normal/Attack\n",
       "556199 2015-12-29 06:29:59        Normal\n",
       "556200 2015-12-29 06:30:00        Attack\n",
       "556201 2015-12-29 06:30:01        Attack\n",
       "556202 2015-12-29 06:30:02        Attack\n",
       "556203 2015-12-29 06:30:03        Attack\n",
       "...                    ...           ...\n",
       "556917 2015-12-29 06:41:57        Attack\n",
       "556918 2015-12-29 06:41:58        Attack\n",
       "556919 2015-12-29 06:41:59        Attack\n",
       "556920 2015-12-29 06:42:00        Attack\n",
       "556921 2015-12-29 06:42:01        Normal\n",
       "\n",
       "[723 rows x 2 columns]"
      ]
     },
     "execution_count": 23,
     "metadata": {},
     "output_type": "execute_result"
    }
   ],
   "source": [
    "df[df['Timestamp'].between('2015-12-29 06:29:59', '2015-12-29 06:42:01')][['Timestamp', 'Normal/Attack']]\n"
   ]
  },
  {
   "cell_type": "code",
   "execution_count": 24,
   "metadata": {},
   "outputs": [],
   "source": [
    "df.loc[(df['Timestamp'].between('2015-12-29 06:29:59', '2015-12-29 06:42:01')), 'Normal/Attack'] = 'Normal'\n"
   ]
  },
  {
   "cell_type": "code",
   "execution_count": 25,
   "metadata": {},
   "outputs": [
    {
     "data": {
      "text/html": [
       "<div>\n",
       "<style scoped>\n",
       "    .dataframe tbody tr th:only-of-type {\n",
       "        vertical-align: middle;\n",
       "    }\n",
       "\n",
       "    .dataframe tbody tr th {\n",
       "        vertical-align: top;\n",
       "    }\n",
       "\n",
       "    .dataframe thead th {\n",
       "        text-align: right;\n",
       "    }\n",
       "</style>\n",
       "<table border=\"1\" class=\"dataframe\">\n",
       "  <thead>\n",
       "    <tr style=\"text-align: right;\">\n",
       "      <th></th>\n",
       "      <th>Timestamp</th>\n",
       "      <th>Normal/Attack</th>\n",
       "    </tr>\n",
       "  </thead>\n",
       "  <tbody>\n",
       "    <tr>\n",
       "      <th>556199</th>\n",
       "      <td>2015-12-29 06:29:59</td>\n",
       "      <td>Normal</td>\n",
       "    </tr>\n",
       "    <tr>\n",
       "      <th>556200</th>\n",
       "      <td>2015-12-29 06:30:00</td>\n",
       "      <td>Normal</td>\n",
       "    </tr>\n",
       "    <tr>\n",
       "      <th>556201</th>\n",
       "      <td>2015-12-29 06:30:01</td>\n",
       "      <td>Normal</td>\n",
       "    </tr>\n",
       "    <tr>\n",
       "      <th>556202</th>\n",
       "      <td>2015-12-29 06:30:02</td>\n",
       "      <td>Normal</td>\n",
       "    </tr>\n",
       "    <tr>\n",
       "      <th>556203</th>\n",
       "      <td>2015-12-29 06:30:03</td>\n",
       "      <td>Normal</td>\n",
       "    </tr>\n",
       "    <tr>\n",
       "      <th>...</th>\n",
       "      <td>...</td>\n",
       "      <td>...</td>\n",
       "    </tr>\n",
       "    <tr>\n",
       "      <th>556917</th>\n",
       "      <td>2015-12-29 06:41:57</td>\n",
       "      <td>Normal</td>\n",
       "    </tr>\n",
       "    <tr>\n",
       "      <th>556918</th>\n",
       "      <td>2015-12-29 06:41:58</td>\n",
       "      <td>Normal</td>\n",
       "    </tr>\n",
       "    <tr>\n",
       "      <th>556919</th>\n",
       "      <td>2015-12-29 06:41:59</td>\n",
       "      <td>Normal</td>\n",
       "    </tr>\n",
       "    <tr>\n",
       "      <th>556920</th>\n",
       "      <td>2015-12-29 06:42:00</td>\n",
       "      <td>Normal</td>\n",
       "    </tr>\n",
       "    <tr>\n",
       "      <th>556921</th>\n",
       "      <td>2015-12-29 06:42:01</td>\n",
       "      <td>Normal</td>\n",
       "    </tr>\n",
       "  </tbody>\n",
       "</table>\n",
       "<p>723 rows × 2 columns</p>\n",
       "</div>"
      ],
      "text/plain": [
       "                 Timestamp Normal/Attack\n",
       "556199 2015-12-29 06:29:59        Normal\n",
       "556200 2015-12-29 06:30:00        Normal\n",
       "556201 2015-12-29 06:30:01        Normal\n",
       "556202 2015-12-29 06:30:02        Normal\n",
       "556203 2015-12-29 06:30:03        Normal\n",
       "...                    ...           ...\n",
       "556917 2015-12-29 06:41:57        Normal\n",
       "556918 2015-12-29 06:41:58        Normal\n",
       "556919 2015-12-29 06:41:59        Normal\n",
       "556920 2015-12-29 06:42:00        Normal\n",
       "556921 2015-12-29 06:42:01        Normal\n",
       "\n",
       "[723 rows x 2 columns]"
      ]
     },
     "execution_count": 25,
     "metadata": {},
     "output_type": "execute_result"
    }
   ],
   "source": [
    "df[df['Timestamp'].between('2015-12-29 06:29:59', '2015-12-29 06:42:01')][['Timestamp', 'Normal/Attack']]\n"
   ]
  },
  {
   "cell_type": "markdown",
   "metadata": {},
   "source": [
    "## **Normalization of dataset**"
   ]
  },
  {
   "cell_type": "code",
   "execution_count": 26,
   "metadata": {},
   "outputs": [],
   "source": [
    "cols_numeric = list(df.columns)\n",
    "cols_numeric.remove('Timestamp')\n",
    "cols_numeric.remove('Normal/Attack')\n",
    "cols_numeric.remove('index')"
   ]
  },
  {
   "cell_type": "markdown",
   "metadata": {},
   "source": [
    "mean normalization"
   ]
  },
  {
   "cell_type": "code",
   "execution_count": 27,
   "metadata": {},
   "outputs": [],
   "source": [
    "data = df[cols_numeric]\n",
    "mean_normalized_df = (data-data.mean())/data.std()"
   ]
  },
  {
   "cell_type": "markdown",
   "metadata": {},
   "source": [
    "min-max normalization"
   ]
  },
  {
   "cell_type": "code",
   "execution_count": 28,
   "metadata": {},
   "outputs": [],
   "source": [
    "data = df[cols_numeric]\n",
    "min_max_normalized_df = (data-data.min())/(data.max()-data.min())"
   ]
  },
  {
   "cell_type": "markdown",
   "metadata": {},
   "source": [
    "## Add attack identification number"
   ]
  },
  {
   "cell_type": "code",
   "execution_count": 29,
   "metadata": {},
   "outputs": [],
   "source": [
    "attacks_list_df = pd.read_csv('attacks_df.csv')"
   ]
  },
  {
   "cell_type": "code",
   "execution_count": 30,
   "metadata": {},
   "outputs": [
    {
     "name": "stderr",
     "output_type": "stream",
     "text": [
      "/var/folders/cc/whpcb33912lfp0b714xmf83m0000gn/T/ipykernel_7339/3300264022.py:11: SettingWithCopyWarning: \n",
      "A value is trying to be set on a copy of a slice from a DataFrame\n",
      "\n",
      "See the caveats in the documentation: https://pandas.pydata.org/pandas-docs/stable/user_guide/indexing.html#returning-a-view-versus-a-copy\n",
      "  df['attack'].loc[s] = attack_num['num_attack']\n"
     ]
    }
   ],
   "source": [
    "attacks_list_df['start_time'] = pd.to_datetime(attacks_list_df['start_time'])\n",
    "attacks_list_df['end_time'] = pd.to_datetime(attacks_list_df['end_time'])\n",
    "df['Timestamp'] = pd.to_datetime(df['Timestamp'])\n",
    "\n",
    "delta_time = pd.Timedelta(minutes=0)\n",
    "\n",
    "df['attack'] = 0\n",
    "for i in range(len(attacks_list_df)):\n",
    "    attack_num = attacks_list_df.iloc[i]\n",
    "    s = df['Timestamp'].between(attack_num['start_time'] - delta_time, attack_num['end_time'] + delta_time)\n",
    "    df['attack'].loc[s] = attack_num['num_attack']"
   ]
  },
  {
   "cell_type": "code",
   "execution_count": 31,
   "metadata": {},
   "outputs": [],
   "source": [
    "df.to_pickle('dataset/clean_dataset.pkl')"
   ]
  }
 ],
 "metadata": {
  "kernelspec": {
   "display_name": "Python 3.9.5 ('.env': venv)",
   "language": "python",
   "name": "python3"
  },
  "language_info": {
   "codemirror_mode": {
    "name": "ipython",
    "version": 3
   },
   "file_extension": ".py",
   "mimetype": "text/x-python",
   "name": "python",
   "nbconvert_exporter": "python",
   "pygments_lexer": "ipython3",
   "version": "3.9.5 (default, May 18 2021, 12:31:01) \n[Clang 10.0.0 ]"
  },
  "orig_nbformat": 4,
  "vscode": {
   "interpreter": {
    "hash": "a94584ff91bad0de35aba50abc669104c831c250069fc6c7e549cc657108045a"
   }
  }
 },
 "nbformat": 4,
 "nbformat_minor": 2
}
