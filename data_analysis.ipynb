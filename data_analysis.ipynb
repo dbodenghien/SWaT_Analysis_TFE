{
 "cells": [
  {
   "cell_type": "code",
   "execution_count": 1,
   "metadata": {},
   "outputs": [],
   "source": [
    "import pandas as pd\n",
    "import numpy as np"
   ]
  },
  {
   "cell_type": "code",
   "execution_count": 2,
   "metadata": {},
   "outputs": [],
   "source": [
    "SWaT_Dataset_Normal_v0 = pd.read_pickle('dataset/SWaT_Dataset_Normal_v0.pkl')\n",
    "SWaT_Dataset_Normal_v1 = pd.read_pickle('dataset/SWaT_Dataset_Normal_v1.pkl')\n",
    "SWaT_Dataset_Attack_v0 = pd.read_pickle('dataset/SWaT_Dataset_Attack_v0.pkl')"
   ]
  },
  {
   "cell_type": "code",
   "execution_count": 5,
   "metadata": {},
   "outputs": [],
   "source": [
    "df = pd.concat([SWaT_Dataset_Normal_v0, SWaT_Dataset_Normal_v1], axis=0)"
   ]
  },
  {
   "cell_type": "code",
   "execution_count": 6,
   "metadata": {},
   "outputs": [
    {
     "data": {
      "text/plain": [
       " Timestamp             \n",
       " 22/12/2015 10:00:00 PM    2\n",
       " 26/12/2015 3:59:50 AM     2\n",
       " 26/12/2015 4:00:04 AM     2\n",
       " 26/12/2015 4:00:03 PM     2\n",
       " 26/12/2015 4:00:03 AM     2\n",
       "                          ..\n",
       " 22/12/2015 4:12:48 PM     1\n",
       " 22/12/2015 4:12:49 PM     1\n",
       " 22/12/2015 4:12:50 PM     1\n",
       " 22/12/2015 4:12:51 PM     1\n",
       " 22/12/2015 4:23:26 PM     1\n",
       "Length: 496800, dtype: int64"
      ]
     },
     "execution_count": 6,
     "metadata": {},
     "output_type": "execute_result"
    }
   ],
   "source": [
    "df['Unnamed: 0_level_0'].value_counts()"
   ]
  },
  {
   "cell_type": "code",
   "execution_count": 20,
   "metadata": {},
   "outputs": [
    {
     "data": {
      "text/plain": [
       " Timestamp     22/12/2015 10:00:00 PM\n",
       "Name: 21600, dtype: object"
      ]
     },
     "execution_count": 20,
     "metadata": {},
     "output_type": "execute_result"
    }
   ],
   "source": [
    "SWaT_Dataset_Normal_v0['Unnamed: 0_level_0'].iloc[21600]"
   ]
  },
  {
   "cell_type": "code",
   "execution_count": 24,
   "metadata": {},
   "outputs": [
    {
     "data": {
      "text/plain": [
       " Timestamp     22/12/2015 10:00:00 PM\n",
       "Name: 19800, dtype: object"
      ]
     },
     "execution_count": 24,
     "metadata": {},
     "output_type": "execute_result"
    }
   ],
   "source": [
    "SWaT_Dataset_Normal_v1['Unnamed: 0_level_0'].iloc[19800]"
   ]
  },
  {
   "cell_type": "code",
   "execution_count": 25,
   "metadata": {},
   "outputs": [
    {
     "data": {
      "text/plain": [
       " Timestamp     22/12/2015 4:00:00 PM\n",
       "Name: 0, dtype: object"
      ]
     },
     "execution_count": 25,
     "metadata": {},
     "output_type": "execute_result"
    }
   ],
   "source": [
    "SWaT_Dataset_Normal_v0['Unnamed: 0_level_0'].iloc[0]"
   ]
  },
  {
   "cell_type": "code",
   "execution_count": 26,
   "metadata": {},
   "outputs": [
    {
     "data": {
      "text/plain": [
       " Timestamp     22/12/2015 4:30:00 PM\n",
       "Name: 0, dtype: object"
      ]
     },
     "execution_count": 26,
     "metadata": {},
     "output_type": "execute_result"
    }
   ],
   "source": [
    "SWaT_Dataset_Normal_v1['Unnamed: 0_level_0'].iloc[0]"
   ]
  }
 ],
 "metadata": {
  "kernelspec": {
   "display_name": "Python 3.9.5 ('miniconda3')",
   "language": "python",
   "name": "python3"
  },
  "language_info": {
   "codemirror_mode": {
    "name": "ipython",
    "version": 3
   },
   "file_extension": ".py",
   "mimetype": "text/x-python",
   "name": "python",
   "nbconvert_exporter": "python",
   "pygments_lexer": "ipython3",
   "version": "3.9.5"
  },
  "orig_nbformat": 4,
  "vscode": {
   "interpreter": {
    "hash": "7403991727195fc1c1a3c03067839ef8708a3fe9d17741b5838c769f7cdb9809"
   }
  }
 },
 "nbformat": 4,
 "nbformat_minor": 2
}
